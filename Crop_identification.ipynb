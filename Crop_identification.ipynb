{
  "nbformat": 4,
  "nbformat_minor": 0,
  "metadata": {
    "colab": {
      "provenance": [],
      "include_colab_link": true
    },
    "kernelspec": {
      "name": "python3",
      "display_name": "Python 3"
    },
    "language_info": {
      "name": "python"
    }
  },
  "cells": [
    {
      "cell_type": "markdown",
      "metadata": {
        "id": "view-in-github",
        "colab_type": "text"
      },
      "source": [
        "<a href=\"https://colab.research.google.com/github/oshmita26/Crop_identification/blob/main/Crop_identification.ipynb\" target=\"_parent\"><img src=\"https://colab.research.google.com/assets/colab-badge.svg\" alt=\"Open In Colab\"/></a>"
      ]
    },
    {
      "cell_type": "code",
      "source": [
        "!pip install ipyleaflet"
      ],
      "metadata": {
        "colab": {
          "base_uri": "https://localhost:8080/"
        },
        "id": "ZH2kcIb1-KfO",
        "outputId": "b555780d-97cd-4c21-bc55-a00817186fd7"
      },
      "execution_count": null,
      "outputs": [
        {
          "output_type": "stream",
          "name": "stdout",
          "text": [
            "Looking in indexes: https://pypi.org/simple, https://us-python.pkg.dev/colab-wheels/public/simple/\n",
            "Collecting ipyleaflet\n",
            "  Downloading ipyleaflet-0.17.2-py3-none-any.whl (3.7 MB)\n",
            "\u001b[2K     \u001b[90m━━━━━━━━━━━━━━━━━━━━━━━━━━━━━━━━━━━━━━━━\u001b[0m \u001b[32m3.7/3.7 MB\u001b[0m \u001b[31m35.3 MB/s\u001b[0m eta \u001b[36m0:00:00\u001b[0m\n",
            "\u001b[?25hRequirement already satisfied: branca>=0.5.0 in /usr/local/lib/python3.9/dist-packages (from ipyleaflet) (0.6.0)\n",
            "Requirement already satisfied: ipywidgets<9,>=7.6.0 in /usr/local/lib/python3.9/dist-packages (from ipyleaflet) (7.7.1)\n",
            "Collecting traittypes<3,>=0.2.1\n",
            "  Downloading traittypes-0.2.1-py2.py3-none-any.whl (8.6 kB)\n",
            "Collecting xyzservices>=2021.8.1\n",
            "  Downloading xyzservices-2023.2.0-py3-none-any.whl (55 kB)\n",
            "\u001b[2K     \u001b[90m━━━━━━━━━━━━━━━━━━━━━━━━━━━━━━━━━━━━━━━━\u001b[0m \u001b[32m55.4/55.4 KB\u001b[0m \u001b[31m2.8 MB/s\u001b[0m eta \u001b[36m0:00:00\u001b[0m\n",
            "\u001b[?25hRequirement already satisfied: jinja2 in /usr/local/lib/python3.9/dist-packages (from branca>=0.5.0->ipyleaflet) (3.1.2)\n",
            "Requirement already satisfied: ipykernel>=4.5.1 in /usr/local/lib/python3.9/dist-packages (from ipywidgets<9,>=7.6.0->ipyleaflet) (5.5.6)\n",
            "Requirement already satisfied: traitlets>=4.3.1 in /usr/local/lib/python3.9/dist-packages (from ipywidgets<9,>=7.6.0->ipyleaflet) (5.7.1)\n",
            "Requirement already satisfied: widgetsnbextension~=3.6.0 in /usr/local/lib/python3.9/dist-packages (from ipywidgets<9,>=7.6.0->ipyleaflet) (3.6.4)\n",
            "Requirement already satisfied: ipython>=4.0.0 in /usr/local/lib/python3.9/dist-packages (from ipywidgets<9,>=7.6.0->ipyleaflet) (7.34.0)\n",
            "Requirement already satisfied: ipython-genutils~=0.2.0 in /usr/local/lib/python3.9/dist-packages (from ipywidgets<9,>=7.6.0->ipyleaflet) (0.2.0)\n",
            "Requirement already satisfied: jupyterlab-widgets>=1.0.0 in /usr/local/lib/python3.9/dist-packages (from ipywidgets<9,>=7.6.0->ipyleaflet) (3.0.7)\n",
            "Requirement already satisfied: jupyter-client in /usr/local/lib/python3.9/dist-packages (from ipykernel>=4.5.1->ipywidgets<9,>=7.6.0->ipyleaflet) (6.1.12)\n",
            "Requirement already satisfied: tornado>=4.2 in /usr/local/lib/python3.9/dist-packages (from ipykernel>=4.5.1->ipywidgets<9,>=7.6.0->ipyleaflet) (6.2)\n",
            "Requirement already satisfied: pickleshare in /usr/local/lib/python3.9/dist-packages (from ipython>=4.0.0->ipywidgets<9,>=7.6.0->ipyleaflet) (0.7.5)\n",
            "Collecting jedi>=0.16\n",
            "  Downloading jedi-0.18.2-py2.py3-none-any.whl (1.6 MB)\n",
            "\u001b[2K     \u001b[90m━━━━━━━━━━━━━━━━━━━━━━━━━━━━━━━━━━━━━━━━\u001b[0m \u001b[32m1.6/1.6 MB\u001b[0m \u001b[31m50.5 MB/s\u001b[0m eta \u001b[36m0:00:00\u001b[0m\n",
            "\u001b[?25hRequirement already satisfied: prompt-toolkit!=3.0.0,!=3.0.1,<3.1.0,>=2.0.0 in /usr/local/lib/python3.9/dist-packages (from ipython>=4.0.0->ipywidgets<9,>=7.6.0->ipyleaflet) (3.0.38)\n",
            "Requirement already satisfied: decorator in /usr/local/lib/python3.9/dist-packages (from ipython>=4.0.0->ipywidgets<9,>=7.6.0->ipyleaflet) (4.4.2)\n",
            "Requirement already satisfied: setuptools>=18.5 in /usr/local/lib/python3.9/dist-packages (from ipython>=4.0.0->ipywidgets<9,>=7.6.0->ipyleaflet) (67.6.1)\n",
            "Requirement already satisfied: backcall in /usr/local/lib/python3.9/dist-packages (from ipython>=4.0.0->ipywidgets<9,>=7.6.0->ipyleaflet) (0.2.0)\n",
            "Requirement already satisfied: matplotlib-inline in /usr/local/lib/python3.9/dist-packages (from ipython>=4.0.0->ipywidgets<9,>=7.6.0->ipyleaflet) (0.1.6)\n",
            "Requirement already satisfied: pexpect>4.3 in /usr/local/lib/python3.9/dist-packages (from ipython>=4.0.0->ipywidgets<9,>=7.6.0->ipyleaflet) (4.8.0)\n",
            "Requirement already satisfied: pygments in /usr/local/lib/python3.9/dist-packages (from ipython>=4.0.0->ipywidgets<9,>=7.6.0->ipyleaflet) (2.14.0)\n",
            "Requirement already satisfied: notebook>=4.4.1 in /usr/local/lib/python3.9/dist-packages (from widgetsnbextension~=3.6.0->ipywidgets<9,>=7.6.0->ipyleaflet) (6.3.0)\n",
            "Requirement already satisfied: MarkupSafe>=2.0 in /usr/local/lib/python3.9/dist-packages (from jinja2->branca>=0.5.0->ipyleaflet) (2.1.2)\n",
            "Requirement already satisfied: parso<0.9.0,>=0.8.0 in /usr/local/lib/python3.9/dist-packages (from jedi>=0.16->ipython>=4.0.0->ipywidgets<9,>=7.6.0->ipyleaflet) (0.8.3)\n",
            "Requirement already satisfied: prometheus-client in /usr/local/lib/python3.9/dist-packages (from notebook>=4.4.1->widgetsnbextension~=3.6.0->ipywidgets<9,>=7.6.0->ipyleaflet) (0.16.0)\n",
            "Requirement already satisfied: Send2Trash>=1.5.0 in /usr/local/lib/python3.9/dist-packages (from notebook>=4.4.1->widgetsnbextension~=3.6.0->ipywidgets<9,>=7.6.0->ipyleaflet) (1.8.0)\n",
            "Requirement already satisfied: argon2-cffi in /usr/local/lib/python3.9/dist-packages (from notebook>=4.4.1->widgetsnbextension~=3.6.0->ipywidgets<9,>=7.6.0->ipyleaflet) (21.3.0)\n",
            "Requirement already satisfied: jupyter-core>=4.6.1 in /usr/local/lib/python3.9/dist-packages (from notebook>=4.4.1->widgetsnbextension~=3.6.0->ipywidgets<9,>=7.6.0->ipyleaflet) (5.3.0)\n",
            "Requirement already satisfied: nbformat in /usr/local/lib/python3.9/dist-packages (from notebook>=4.4.1->widgetsnbextension~=3.6.0->ipywidgets<9,>=7.6.0->ipyleaflet) (5.8.0)\n",
            "Requirement already satisfied: nbconvert in /usr/local/lib/python3.9/dist-packages (from notebook>=4.4.1->widgetsnbextension~=3.6.0->ipywidgets<9,>=7.6.0->ipyleaflet) (6.5.4)\n",
            "Requirement already satisfied: terminado>=0.8.3 in /usr/local/lib/python3.9/dist-packages (from notebook>=4.4.1->widgetsnbextension~=3.6.0->ipywidgets<9,>=7.6.0->ipyleaflet) (0.17.1)\n",
            "Requirement already satisfied: pyzmq>=17 in /usr/local/lib/python3.9/dist-packages (from notebook>=4.4.1->widgetsnbextension~=3.6.0->ipywidgets<9,>=7.6.0->ipyleaflet) (23.2.1)\n",
            "Requirement already satisfied: python-dateutil>=2.1 in /usr/local/lib/python3.9/dist-packages (from jupyter-client->ipykernel>=4.5.1->ipywidgets<9,>=7.6.0->ipyleaflet) (2.8.2)\n",
            "Requirement already satisfied: ptyprocess>=0.5 in /usr/local/lib/python3.9/dist-packages (from pexpect>4.3->ipython>=4.0.0->ipywidgets<9,>=7.6.0->ipyleaflet) (0.7.0)\n",
            "Requirement already satisfied: wcwidth in /usr/local/lib/python3.9/dist-packages (from prompt-toolkit!=3.0.0,!=3.0.1,<3.1.0,>=2.0.0->ipython>=4.0.0->ipywidgets<9,>=7.6.0->ipyleaflet) (0.2.6)\n",
            "Requirement already satisfied: platformdirs>=2.5 in /usr/local/lib/python3.9/dist-packages (from jupyter-core>=4.6.1->notebook>=4.4.1->widgetsnbextension~=3.6.0->ipywidgets<9,>=7.6.0->ipyleaflet) (3.2.0)\n",
            "Requirement already satisfied: six>=1.5 in /usr/local/lib/python3.9/dist-packages (from python-dateutil>=2.1->jupyter-client->ipykernel>=4.5.1->ipywidgets<9,>=7.6.0->ipyleaflet) (1.16.0)\n",
            "Requirement already satisfied: argon2-cffi-bindings in /usr/local/lib/python3.9/dist-packages (from argon2-cffi->notebook>=4.4.1->widgetsnbextension~=3.6.0->ipywidgets<9,>=7.6.0->ipyleaflet) (21.2.0)\n",
            "Requirement already satisfied: lxml in /usr/local/lib/python3.9/dist-packages (from nbconvert->notebook>=4.4.1->widgetsnbextension~=3.6.0->ipywidgets<9,>=7.6.0->ipyleaflet) (4.9.2)\n",
            "Requirement already satisfied: defusedxml in /usr/local/lib/python3.9/dist-packages (from nbconvert->notebook>=4.4.1->widgetsnbextension~=3.6.0->ipywidgets<9,>=7.6.0->ipyleaflet) (0.7.1)\n",
            "Requirement already satisfied: jupyterlab-pygments in /usr/local/lib/python3.9/dist-packages (from nbconvert->notebook>=4.4.1->widgetsnbextension~=3.6.0->ipywidgets<9,>=7.6.0->ipyleaflet) (0.2.2)\n",
            "Requirement already satisfied: nbclient>=0.5.0 in /usr/local/lib/python3.9/dist-packages (from nbconvert->notebook>=4.4.1->widgetsnbextension~=3.6.0->ipywidgets<9,>=7.6.0->ipyleaflet) (0.7.2)\n",
            "Requirement already satisfied: beautifulsoup4 in /usr/local/lib/python3.9/dist-packages (from nbconvert->notebook>=4.4.1->widgetsnbextension~=3.6.0->ipywidgets<9,>=7.6.0->ipyleaflet) (4.11.2)\n",
            "Requirement already satisfied: packaging in /usr/local/lib/python3.9/dist-packages (from nbconvert->notebook>=4.4.1->widgetsnbextension~=3.6.0->ipywidgets<9,>=7.6.0->ipyleaflet) (23.0)\n",
            "Requirement already satisfied: pandocfilters>=1.4.1 in /usr/local/lib/python3.9/dist-packages (from nbconvert->notebook>=4.4.1->widgetsnbextension~=3.6.0->ipywidgets<9,>=7.6.0->ipyleaflet) (1.5.0)\n",
            "Requirement already satisfied: entrypoints>=0.2.2 in /usr/local/lib/python3.9/dist-packages (from nbconvert->notebook>=4.4.1->widgetsnbextension~=3.6.0->ipywidgets<9,>=7.6.0->ipyleaflet) (0.4)\n",
            "Requirement already satisfied: mistune<2,>=0.8.1 in /usr/local/lib/python3.9/dist-packages (from nbconvert->notebook>=4.4.1->widgetsnbextension~=3.6.0->ipywidgets<9,>=7.6.0->ipyleaflet) (0.8.4)\n",
            "Requirement already satisfied: tinycss2 in /usr/local/lib/python3.9/dist-packages (from nbconvert->notebook>=4.4.1->widgetsnbextension~=3.6.0->ipywidgets<9,>=7.6.0->ipyleaflet) (1.2.1)\n",
            "Requirement already satisfied: bleach in /usr/local/lib/python3.9/dist-packages (from nbconvert->notebook>=4.4.1->widgetsnbextension~=3.6.0->ipywidgets<9,>=7.6.0->ipyleaflet) (6.0.0)\n",
            "Requirement already satisfied: fastjsonschema in /usr/local/lib/python3.9/dist-packages (from nbformat->notebook>=4.4.1->widgetsnbextension~=3.6.0->ipywidgets<9,>=7.6.0->ipyleaflet) (2.16.3)\n",
            "Requirement already satisfied: jsonschema>=2.6 in /usr/local/lib/python3.9/dist-packages (from nbformat->notebook>=4.4.1->widgetsnbextension~=3.6.0->ipywidgets<9,>=7.6.0->ipyleaflet) (4.3.3)\n",
            "Requirement already satisfied: attrs>=17.4.0 in /usr/local/lib/python3.9/dist-packages (from jsonschema>=2.6->nbformat->notebook>=4.4.1->widgetsnbextension~=3.6.0->ipywidgets<9,>=7.6.0->ipyleaflet) (22.2.0)\n",
            "Requirement already satisfied: pyrsistent!=0.17.0,!=0.17.1,!=0.17.2,>=0.14.0 in /usr/local/lib/python3.9/dist-packages (from jsonschema>=2.6->nbformat->notebook>=4.4.1->widgetsnbextension~=3.6.0->ipywidgets<9,>=7.6.0->ipyleaflet) (0.19.3)\n",
            "Requirement already satisfied: cffi>=1.0.1 in /usr/local/lib/python3.9/dist-packages (from argon2-cffi-bindings->argon2-cffi->notebook>=4.4.1->widgetsnbextension~=3.6.0->ipywidgets<9,>=7.6.0->ipyleaflet) (1.15.1)\n",
            "Requirement already satisfied: soupsieve>1.2 in /usr/local/lib/python3.9/dist-packages (from beautifulsoup4->nbconvert->notebook>=4.4.1->widgetsnbextension~=3.6.0->ipywidgets<9,>=7.6.0->ipyleaflet) (2.4)\n",
            "Requirement already satisfied: webencodings in /usr/local/lib/python3.9/dist-packages (from bleach->nbconvert->notebook>=4.4.1->widgetsnbextension~=3.6.0->ipywidgets<9,>=7.6.0->ipyleaflet) (0.5.1)\n",
            "Requirement already satisfied: pycparser in /usr/local/lib/python3.9/dist-packages (from cffi>=1.0.1->argon2-cffi-bindings->argon2-cffi->notebook>=4.4.1->widgetsnbextension~=3.6.0->ipywidgets<9,>=7.6.0->ipyleaflet) (2.21)\n",
            "Installing collected packages: xyzservices, traittypes, jedi, ipyleaflet\n",
            "Successfully installed ipyleaflet-0.17.2 jedi-0.18.2 traittypes-0.2.1 xyzservices-2023.2.0\n"
          ]
        }
      ]
    },
    {
      "cell_type": "code",
      "source": [
        "# !pip install pystac"
      ],
      "metadata": {
        "colab": {
          "base_uri": "https://localhost:8080/"
        },
        "id": "h8rvQl8v-U6N",
        "outputId": "0e92bcd4-eaf9-4f92-b6a1-607ebe65562b"
      },
      "execution_count": null,
      "outputs": [
        {
          "output_type": "stream",
          "name": "stdout",
          "text": [
            "Looking in indexes: https://pypi.org/simple, https://us-python.pkg.dev/colab-wheels/public/simple/\n",
            "Requirement already satisfied: pystac in /usr/local/lib/python3.9/dist-packages (1.7.1)\n",
            "Requirement already satisfied: python-dateutil>=2.7.0 in /usr/local/lib/python3.9/dist-packages (from pystac) (2.8.2)\n",
            "Requirement already satisfied: six>=1.5 in /usr/local/lib/python3.9/dist-packages (from python-dateutil>=2.7.0->pystac) (1.16.0)\n"
          ]
        }
      ]
    },
    {
      "cell_type": "code",
      "source": [
        "# !pip install pystac_client"
      ],
      "metadata": {
        "colab": {
          "base_uri": "https://localhost:8080/"
        },
        "id": "eWUeMEql-cuj",
        "outputId": "14e66f3c-cfbf-43a6-fe11-da6d05c87e8d"
      },
      "execution_count": null,
      "outputs": [
        {
          "output_type": "stream",
          "name": "stdout",
          "text": [
            "Looking in indexes: https://pypi.org/simple, https://us-python.pkg.dev/colab-wheels/public/simple/\n",
            "Collecting pystac_client\n",
            "  Downloading pystac_client-0.6.1-py3-none-any.whl (30 kB)\n",
            "Requirement already satisfied: requests>=2.27.1 in /usr/local/lib/python3.9/dist-packages (from pystac_client) (2.27.1)\n",
            "Requirement already satisfied: pystac>=1.7.0 in /usr/local/lib/python3.9/dist-packages (from pystac_client) (1.7.1)\n",
            "Requirement already satisfied: python-dateutil>=2.7.0 in /usr/local/lib/python3.9/dist-packages (from pystac_client) (2.8.2)\n",
            "Requirement already satisfied: six>=1.5 in /usr/local/lib/python3.9/dist-packages (from python-dateutil>=2.7.0->pystac_client) (1.16.0)\n",
            "Requirement already satisfied: idna<4,>=2.5 in /usr/local/lib/python3.9/dist-packages (from requests>=2.27.1->pystac_client) (3.4)\n",
            "Requirement already satisfied: charset-normalizer~=2.0.0 in /usr/local/lib/python3.9/dist-packages (from requests>=2.27.1->pystac_client) (2.0.12)\n",
            "Requirement already satisfied: urllib3<1.27,>=1.21.1 in /usr/local/lib/python3.9/dist-packages (from requests>=2.27.1->pystac_client) (1.26.15)\n",
            "Requirement already satisfied: certifi>=2017.4.17 in /usr/local/lib/python3.9/dist-packages (from requests>=2.27.1->pystac_client) (2022.12.7)\n",
            "Installing collected packages: pystac_client\n",
            "Successfully installed pystac_client-0.6.1\n"
          ]
        }
      ]
    },
    {
      "cell_type": "code",
      "source": [
        "!pip install odc-stac"
      ],
      "metadata": {
        "colab": {
          "base_uri": "https://localhost:8080/"
        },
        "id": "0VGTKRxx-jNM",
        "outputId": "32d71f62-ad04-4e1e-c913-e941380049b5"
      },
      "execution_count": null,
      "outputs": [
        {
          "output_type": "stream",
          "name": "stdout",
          "text": [
            "Looking in indexes: https://pypi.org/simple, https://us-python.pkg.dev/colab-wheels/public/simple/\n",
            "Collecting odc-stac\n",
            "  Downloading odc_stac-0.3.5-py3-none-any.whl (55 kB)\n",
            "\u001b[2K     \u001b[90m━━━━━━━━━━━━━━━━━━━━━━━━━━━━━━━━━━━━━━━━\u001b[0m \u001b[32m55.9/55.9 KB\u001b[0m \u001b[31m3.6 MB/s\u001b[0m eta \u001b[36m0:00:00\u001b[0m\n",
            "\u001b[?25hRequirement already satisfied: dask[array] in /usr/local/lib/python3.9/dist-packages (from odc-stac) (2022.12.1)\n",
            "Requirement already satisfied: xarray>=0.19 in /usr/local/lib/python3.9/dist-packages (from odc-stac) (2022.12.0)\n",
            "Requirement already satisfied: pandas in /usr/local/lib/python3.9/dist-packages (from odc-stac) (1.4.4)\n",
            "Collecting odc-geo>=0.3.0\n",
            "  Downloading odc_geo-0.3.3-py3-none-any.whl (114 kB)\n",
            "\u001b[2K     \u001b[90m━━━━━━━━━━━━━━━━━━━━━━━━━━━━━━━━━━━━━━\u001b[0m \u001b[32m114.4/114.4 KB\u001b[0m \u001b[31m11.5 MB/s\u001b[0m eta \u001b[36m0:00:00\u001b[0m\n",
            "\u001b[?25hCollecting affine\n",
            "  Downloading affine-2.4.0-py3-none-any.whl (15 kB)\n",
            "Requirement already satisfied: toolz in /usr/local/lib/python3.9/dist-packages (from odc-stac) (0.12.0)\n",
            "Requirement already satisfied: numpy>=1.20.0 in /usr/local/lib/python3.9/dist-packages (from odc-stac) (1.22.4)\n",
            "Collecting rasterio!=1.3.0,!=1.3.1,>=1.0.0\n",
            "  Downloading rasterio-1.3.6-cp39-cp39-manylinux_2_17_x86_64.manylinux2014_x86_64.whl (20.1 MB)\n",
            "\u001b[2K     \u001b[90m━━━━━━━━━━━━━━━━━━━━━━━━━━━━━━━━━━━━━━━━\u001b[0m \u001b[32m20.1/20.1 MB\u001b[0m \u001b[31m53.1 MB/s\u001b[0m eta \u001b[36m0:00:00\u001b[0m\n",
            "\u001b[?25hCollecting pystac<2,>=1.0.0\n",
            "  Downloading pystac-1.7.1-py3-none-any.whl (153 kB)\n",
            "\u001b[2K     \u001b[90m━━━━━━━━━━━━━━━━━━━━━━━━━━━━━━━━━━━━━━\u001b[0m \u001b[32m153.9/153.9 KB\u001b[0m \u001b[31m17.3 MB/s\u001b[0m eta \u001b[36m0:00:00\u001b[0m\n",
            "\u001b[?25hCollecting pyproj>=3.0.0\n",
            "  Downloading pyproj-3.5.0-cp39-cp39-manylinux_2_17_x86_64.manylinux2014_x86_64.whl (7.8 MB)\n",
            "\u001b[2K     \u001b[90m━━━━━━━━━━━━━━━━━━━━━━━━━━━━━━━━━━━━━━━━\u001b[0m \u001b[32m7.8/7.8 MB\u001b[0m \u001b[31m69.4 MB/s\u001b[0m eta \u001b[36m0:00:00\u001b[0m\n",
            "\u001b[?25hRequirement already satisfied: shapely in /usr/local/lib/python3.9/dist-packages (from odc-geo>=0.3.0->odc-stac) (2.0.1)\n",
            "Requirement already satisfied: cachetools in /usr/local/lib/python3.9/dist-packages (from odc-geo>=0.3.0->odc-stac) (5.3.0)\n",
            "Requirement already satisfied: python-dateutil>=2.7.0 in /usr/local/lib/python3.9/dist-packages (from pystac<2,>=1.0.0->odc-stac) (2.8.2)\n",
            "Requirement already satisfied: setuptools in /usr/local/lib/python3.9/dist-packages (from rasterio!=1.3.0,!=1.3.1,>=1.0.0->odc-stac) (67.6.1)\n",
            "Requirement already satisfied: click>=4.0 in /usr/local/lib/python3.9/dist-packages (from rasterio!=1.3.0,!=1.3.1,>=1.0.0->odc-stac) (8.1.3)\n",
            "Requirement already satisfied: certifi in /usr/local/lib/python3.9/dist-packages (from rasterio!=1.3.0,!=1.3.1,>=1.0.0->odc-stac) (2022.12.7)\n",
            "Requirement already satisfied: attrs in /usr/local/lib/python3.9/dist-packages (from rasterio!=1.3.0,!=1.3.1,>=1.0.0->odc-stac) (22.2.0)\n",
            "Collecting click-plugins\n",
            "  Downloading click_plugins-1.1.1-py2.py3-none-any.whl (7.5 kB)\n",
            "Collecting snuggs>=1.4.1\n",
            "  Downloading snuggs-1.4.7-py3-none-any.whl (5.4 kB)\n",
            "Collecting cligj>=0.5\n",
            "  Downloading cligj-0.7.2-py3-none-any.whl (7.1 kB)\n",
            "Requirement already satisfied: packaging>=21.3 in /usr/local/lib/python3.9/dist-packages (from xarray>=0.19->odc-stac) (23.0)\n",
            "Requirement already satisfied: pytz>=2020.1 in /usr/local/lib/python3.9/dist-packages (from pandas->odc-stac) (2022.7.1)\n",
            "Requirement already satisfied: partd>=0.3.10 in /usr/local/lib/python3.9/dist-packages (from dask[array]->odc-stac) (1.3.0)\n",
            "Requirement already satisfied: cloudpickle>=1.1.1 in /usr/local/lib/python3.9/dist-packages (from dask[array]->odc-stac) (2.2.1)\n",
            "Requirement already satisfied: pyyaml>=5.3.1 in /usr/local/lib/python3.9/dist-packages (from dask[array]->odc-stac) (6.0)\n",
            "Requirement already satisfied: fsspec>=0.6.0 in /usr/local/lib/python3.9/dist-packages (from dask[array]->odc-stac) (2023.3.0)\n",
            "Requirement already satisfied: locket in /usr/local/lib/python3.9/dist-packages (from partd>=0.3.10->dask[array]->odc-stac) (1.0.0)\n",
            "Requirement already satisfied: six>=1.5 in /usr/local/lib/python3.9/dist-packages (from python-dateutil>=2.7.0->pystac<2,>=1.0.0->odc-stac) (1.16.0)\n",
            "Requirement already satisfied: pyparsing>=2.1.6 in /usr/local/lib/python3.9/dist-packages (from snuggs>=1.4.1->rasterio!=1.3.0,!=1.3.1,>=1.0.0->odc-stac) (3.0.9)\n",
            "Installing collected packages: snuggs, pyproj, cligj, click-plugins, affine, rasterio, pystac, odc-geo, odc-stac\n",
            "Successfully installed affine-2.4.0 click-plugins-1.1.1 cligj-0.7.2 odc-geo-0.3.3 odc-stac-0.3.5 pyproj-3.5.0 pystac-1.7.1 rasterio-1.3.6 snuggs-1.4.7\n"
          ]
        }
      ]
    },
    {
      "cell_type": "code",
      "source": [
        "from google.colab import drive\n",
        "drive.mount('/content/drive/')"
      ],
      "metadata": {
        "colab": {
          "base_uri": "https://localhost:8080/"
        },
        "id": "7yIQIBCFBMHQ",
        "outputId": "8695a9e7-ce42-4775-e35d-26bd01840ff2"
      },
      "execution_count": null,
      "outputs": [
        {
          "output_type": "stream",
          "name": "stdout",
          "text": [
            "Mounted at /content/drive/\n"
          ]
        }
      ]
    },
    {
      "cell_type": "markdown",
      "source": [
        "### Cloning the repository for leafmap"
      ],
      "metadata": {
        "id": "421WBn-6DIAE"
      }
    },
    {
      "cell_type": "code",
      "source": [
        "# !git clone https://github.com/giswqs/leafmap.git"
      ],
      "metadata": {
        "colab": {
          "base_uri": "https://localhost:8080/"
        },
        "id": "X-UopffBDGyw",
        "outputId": "2bdab923-aa97-4220-d3a3-e63a26dff365"
      },
      "execution_count": null,
      "outputs": [
        {
          "output_type": "stream",
          "name": "stdout",
          "text": [
            "Cloning into 'leafmap'...\n",
            "remote: Enumerating objects: 5885, done.\u001b[K\n",
            "remote: Counting objects: 100% (700/700), done.\u001b[K\n",
            "remote: Compressing objects: 100% (301/301), done.\u001b[K\n",
            "remote: Total 5885 (delta 405), reused 678 (delta 396), pack-reused 5185\u001b[K\n",
            "Receiving objects: 100% (5885/5885), 56.09 MiB | 22.18 MiB/s, done.\n",
            "Resolving deltas: 100% (4224/4224), done.\n"
          ]
        }
      ]
    },
    {
      "cell_type": "code",
      "source": [
        "!pip install planetary-computer"
      ],
      "metadata": {
        "colab": {
          "base_uri": "https://localhost:8080/"
        },
        "id": "_WAUYUf3tqyz",
        "outputId": "d938213b-4cce-4260-f6c7-e68086050984"
      },
      "execution_count": null,
      "outputs": [
        {
          "output_type": "stream",
          "name": "stdout",
          "text": [
            "Looking in indexes: https://pypi.org/simple, https://us-python.pkg.dev/colab-wheels/public/simple/\n",
            "Collecting planetary-computer\n",
            "  Downloading planetary_computer-0.4.9-py3-none-any.whl (17 kB)\n",
            "Collecting pystac-client>=0.2.0\n",
            "  Downloading pystac_client-0.6.1-py3-none-any.whl (30 kB)\n",
            "Requirement already satisfied: pydantic[dotenv]>=1.7.3 in /usr/local/lib/python3.9/dist-packages (from planetary-computer) (1.10.7)\n",
            "Requirement already satisfied: pytz>=2020.5 in /usr/local/lib/python3.9/dist-packages (from planetary-computer) (2022.7.1)\n",
            "Requirement already satisfied: requests>=2.25.1 in /usr/local/lib/python3.9/dist-packages (from planetary-computer) (2.27.1)\n",
            "Requirement already satisfied: pystac>=1.0.0 in /usr/local/lib/python3.9/dist-packages (from planetary-computer) (1.7.1)\n",
            "Requirement already satisfied: click>=7.1 in /usr/local/lib/python3.9/dist-packages (from planetary-computer) (8.1.3)\n",
            "Requirement already satisfied: typing-extensions>=4.2.0 in /usr/local/lib/python3.9/dist-packages (from pydantic[dotenv]>=1.7.3->planetary-computer) (4.5.0)\n",
            "Collecting python-dotenv>=0.10.4\n",
            "  Downloading python_dotenv-1.0.0-py3-none-any.whl (19 kB)\n",
            "Requirement already satisfied: python-dateutil>=2.7.0 in /usr/local/lib/python3.9/dist-packages (from pystac>=1.0.0->planetary-computer) (2.8.2)\n",
            "Requirement already satisfied: idna<4,>=2.5 in /usr/local/lib/python3.9/dist-packages (from requests>=2.25.1->planetary-computer) (3.4)\n",
            "Requirement already satisfied: charset-normalizer~=2.0.0 in /usr/local/lib/python3.9/dist-packages (from requests>=2.25.1->planetary-computer) (2.0.12)\n",
            "Requirement already satisfied: certifi>=2017.4.17 in /usr/local/lib/python3.9/dist-packages (from requests>=2.25.1->planetary-computer) (2022.12.7)\n",
            "Requirement already satisfied: urllib3<1.27,>=1.21.1 in /usr/local/lib/python3.9/dist-packages (from requests>=2.25.1->planetary-computer) (1.26.15)\n",
            "Requirement already satisfied: six>=1.5 in /usr/local/lib/python3.9/dist-packages (from python-dateutil>=2.7.0->pystac>=1.0.0->planetary-computer) (1.16.0)\n",
            "Installing collected packages: python-dotenv, pystac-client, planetary-computer\n",
            "Successfully installed planetary-computer-0.4.9 pystac-client-0.6.1 python-dotenv-1.0.0\n"
          ]
        }
      ]
    },
    {
      "cell_type": "code",
      "source": [
        "# !planetarycomputer configure"
      ],
      "metadata": {
        "id": "HhodUTRTDGvU"
      },
      "execution_count": null,
      "outputs": []
    },
    {
      "cell_type": "code",
      "source": [
        "# import planetary_computer as pc\n",
        "# import pystac_client\n",
        "\n",
        "# from pystac_client import Client\n",
        "# import planetary_computer, requests\n",
        "# api = Client.open(\n",
        "#    'https://planetarycomputer.microsoft.com/api/stac/v1',\n",
        "#    modifier=planetary_computer.sign_inplace,\n",
        "# )"
      ],
      "metadata": {
        "id": "Voig8GZVu4BB"
      },
      "execution_count": null,
      "outputs": []
    },
    {
      "cell_type": "code",
      "source": [
        "!pip install Rich"
      ],
      "metadata": {
        "colab": {
          "base_uri": "https://localhost:8080/"
        },
        "id": "GHYAHly-nwzP",
        "outputId": "0ac8b99b-ecb3-4878-f472-06bcb5bafc83"
      },
      "execution_count": null,
      "outputs": [
        {
          "output_type": "stream",
          "name": "stdout",
          "text": [
            "Looking in indexes: https://pypi.org/simple, https://us-python.pkg.dev/colab-wheels/public/simple/\n",
            "Requirement already satisfied: Rich in /usr/local/lib/python3.9/dist-packages (13.3.3)\n",
            "Requirement already satisfied: pygments<3.0.0,>=2.13.0 in /usr/local/lib/python3.9/dist-packages (from Rich) (2.14.0)\n",
            "Requirement already satisfied: markdown-it-py<3.0.0,>=2.2.0 in /usr/local/lib/python3.9/dist-packages (from Rich) (2.2.0)\n",
            "Requirement already satisfied: mdurl~=0.1 in /usr/local/lib/python3.9/dist-packages (from markdown-it-py<3.0.0,>=2.2.0->Rich) (0.1.2)\n"
          ]
        }
      ]
    },
    {
      "cell_type": "code",
      "source": [
        "!python -m rich"
      ],
      "metadata": {
        "colab": {
          "base_uri": "https://localhost:8080/"
        },
        "id": "dQoNSUqpn3to",
        "outputId": "240e6f57-76e3-4ad1-e1e8-7ac886df2bcb"
      },
      "execution_count": null,
      "outputs": [
        {
          "output_type": "stream",
          "name": "stdout",
          "text": [
            "\u001b[3m                                 Rich features                                  \u001b[0m\n",
            "\u001b[1;31m              \u001b[0m                                                                  \n",
            "\u001b[1;31m \u001b[0m\u001b[1;31m   Colors   \u001b[0m\u001b[1;31m \u001b[0m✓ \u001b[1;32m4-bit color\u001b[0m                 \u001b[30;40m▄\u001b[0m\u001b[30;40m▄\u001b[0m\u001b[30;40m▄\u001b[0m\u001b[30;40m▄\u001b[0m\u001b[33;40m▄\u001b[0m\u001b[33;40m▄\u001b[0m\u001b[33;40m▄\u001b[0m\u001b[90;40m▄\u001b[0m\u001b[90;40m▄\u001b[0m\u001b[90;40m▄\u001b[0m\u001b[90;40m▄\u001b[0m\u001b[32;40m▄\u001b[0m\u001b[32;40m▄\u001b[0m\u001b[90;40m▄\u001b[0m\u001b[90;40m▄\u001b[0m\u001b[90;40m▄\u001b[0m\u001b[90;40m▄\u001b[0m\u001b[90;40m▄\u001b[0m\u001b[90;40m▄\u001b[0m\u001b[90;40m▄\u001b[0m\u001b[90;40m▄\u001b[0m\u001b[34;40m▄\u001b[0m\u001b[34;40m▄\u001b[0m\u001b[34;40m▄\u001b[0m\u001b[34;40m▄\u001b[0m\u001b[34;40m▄\u001b[0m\u001b[34;40m▄\u001b[0m\u001b[34;40m▄\u001b[0m\u001b[90;40m▄\u001b[0m\u001b[90;40m▄\u001b[0m\u001b[90;40m▄\u001b[0m\u001b[30;40m▄\u001b[0m\u001b[30;40m▄\u001b[0m\u001b[30;40m▄\u001b[0m\u001b[30;40m▄\u001b[0m \n",
            "\u001b[1;31m              \u001b[0m✓ \u001b[1;34m8-bit color\u001b[0m                 \u001b[31;41m▄\u001b[0m\u001b[31;41m▄\u001b[0m\u001b[33;41m▄\u001b[0m\u001b[33;43m▄\u001b[0m\u001b[33;43m▄\u001b[0m\u001b[33;43m▄\u001b[0m\u001b[33;43m▄\u001b[0m\u001b[33;43m▄\u001b[0m\u001b[32;42m▄\u001b[0m\u001b[32;42m▄\u001b[0m\u001b[32;42m▄\u001b[0m\u001b[32;42m▄\u001b[0m\u001b[32;42m▄\u001b[0m\u001b[32;42m▄\u001b[0m\u001b[32;42m▄\u001b[0m\u001b[36;100m▄\u001b[0m\u001b[36;100m▄\u001b[0m\u001b[36;46m▄\u001b[0m\u001b[36;46m▄\u001b[0m\u001b[36;100m▄\u001b[0m\u001b[36;100m▄\u001b[0m\u001b[34;44m▄\u001b[0m\u001b[34;44m▄\u001b[0m\u001b[34;44m▄\u001b[0m\u001b[34;44m▄\u001b[0m\u001b[34;44m▄\u001b[0m\u001b[34;44m▄\u001b[0m\u001b[35;44m▄\u001b[0m\u001b[35;45m▄\u001b[0m\u001b[35;45m▄\u001b[0m\u001b[35;45m▄\u001b[0m\u001b[35;41m▄\u001b[0m\u001b[31;41m▄\u001b[0m\u001b[31;41m▄\u001b[0m\u001b[31;41m▄\u001b[0m \n",
            "\u001b[1;31m              \u001b[0m✓ \u001b[1;35mTruecolor (16.7 million)\u001b[0m    \u001b[31;41m▄\u001b[0m\u001b[31;41m▄\u001b[0m\u001b[33;43m▄\u001b[0m\u001b[33;43m▄\u001b[0m\u001b[33;43m▄\u001b[0m\u001b[93;43m▄\u001b[0m\u001b[93;103m▄\u001b[0m\u001b[93;102m▄\u001b[0m\u001b[92;42m▄\u001b[0m\u001b[92;42m▄\u001b[0m\u001b[32;42m▄\u001b[0m\u001b[32;42m▄\u001b[0m\u001b[32;42m▄\u001b[0m\u001b[92;42m▄\u001b[0m\u001b[92;42m▄\u001b[0m\u001b[36;46m▄\u001b[0m\u001b[36;46m▄\u001b[0m\u001b[36;46m▄\u001b[0m\u001b[36;46m▄\u001b[0m\u001b[36;46m▄\u001b[0m\u001b[36;46m▄\u001b[0m\u001b[94;44m▄\u001b[0m\u001b[34;44m▄\u001b[0m\u001b[34;44m▄\u001b[0m\u001b[34;44m▄\u001b[0m\u001b[34;44m▄\u001b[0m\u001b[35;45m▄\u001b[0m\u001b[35;45m▄\u001b[0m\u001b[35;45m▄\u001b[0m\u001b[35;45m▄\u001b[0m\u001b[35;45m▄\u001b[0m\u001b[35;45m▄\u001b[0m\u001b[35;45m▄\u001b[0m\u001b[31;41m▄\u001b[0m\u001b[31;41m▄\u001b[0m \n",
            "\u001b[1;31m              \u001b[0m✓ \u001b[1;33mDumb terminals\u001b[0m              \u001b[91;41m▄\u001b[0m\u001b[91;101m▄\u001b[0m\u001b[91;101m▄\u001b[0m\u001b[91;101m▄\u001b[0m\u001b[93;103m▄\u001b[0m\u001b[93;103m▄\u001b[0m\u001b[93;103m▄\u001b[0m\u001b[93;103m▄\u001b[0m\u001b[93;102m▄\u001b[0m\u001b[92;102m▄\u001b[0m\u001b[92;102m▄\u001b[0m\u001b[92;102m▄\u001b[0m\u001b[92;102m▄\u001b[0m\u001b[92;102m▄\u001b[0m\u001b[92;102m▄\u001b[0m\u001b[92;102m▄\u001b[0m\u001b[96;106m▄\u001b[0m\u001b[96;106m▄\u001b[0m\u001b[96;106m▄\u001b[0m\u001b[96;46m▄\u001b[0m\u001b[36;46m▄\u001b[0m\u001b[94;104m▄\u001b[0m\u001b[94;104m▄\u001b[0m\u001b[94;44m▄\u001b[0m\u001b[94;44m▄\u001b[0m\u001b[94;104m▄\u001b[0m\u001b[94;45m▄\u001b[0m\u001b[95;45m▄\u001b[0m\u001b[95;45m▄\u001b[0m\u001b[95;105m▄\u001b[0m\u001b[95;105m▄\u001b[0m\u001b[95;45m▄\u001b[0m\u001b[91;45m▄\u001b[0m\u001b[91;101m▄\u001b[0m\u001b[91;101m▄\u001b[0m \n",
            "\u001b[1;31m              \u001b[0m✓ \u001b[1;36mAutomatic color conversion\u001b[0m  \u001b[91;101m▄\u001b[0m\u001b[91;101m▄\u001b[0m\u001b[37;101m▄\u001b[0m\u001b[93;101m▄\u001b[0m\u001b[93;103m▄\u001b[0m\u001b[93;103m▄\u001b[0m\u001b[93;103m▄\u001b[0m\u001b[93;103m▄\u001b[0m\u001b[93;103m▄\u001b[0m\u001b[93;102m▄\u001b[0m\u001b[92;102m▄\u001b[0m\u001b[92;102m▄\u001b[0m\u001b[92;102m▄\u001b[0m\u001b[92;102m▄\u001b[0m\u001b[96;102m▄\u001b[0m\u001b[96;106m▄\u001b[0m\u001b[96;106m▄\u001b[0m\u001b[96;106m▄\u001b[0m\u001b[96;106m▄\u001b[0m\u001b[96;106m▄\u001b[0m\u001b[96;106m▄\u001b[0m\u001b[37;104m▄\u001b[0m\u001b[94;104m▄\u001b[0m\u001b[94;104m▄\u001b[0m\u001b[94;104m▄\u001b[0m\u001b[94;104m▄\u001b[0m\u001b[95;104m▄\u001b[0m\u001b[95;105m▄\u001b[0m\u001b[95;105m▄\u001b[0m\u001b[95;105m▄\u001b[0m\u001b[95;105m▄\u001b[0m\u001b[95;105m▄\u001b[0m\u001b[95;101m▄\u001b[0m\u001b[91;101m▄\u001b[0m\u001b[91;101m▄\u001b[0m \n",
            "\u001b[1;31m              \u001b[0m                                                                  \n",
            "\u001b[1;31m \u001b[0m\u001b[1;31m   Styles   \u001b[0m\u001b[1;31m \u001b[0mAll ansi styles: \u001b[1mbold\u001b[0m, \u001b[2mdim\u001b[0m, \u001b[3mitalic\u001b[0m, \u001b[4munderline\u001b[0m, \u001b[9mstrikethrough\u001b[0m,     \n",
            "\u001b[1;31m              \u001b[0m\u001b[7mreverse\u001b[0m, and even \u001b[5mblink\u001b[0m.                                          \n",
            "\u001b[1;31m              \u001b[0m                                                                  \n",
            "\u001b[1;31m \u001b[0m\u001b[1;31m    Text    \u001b[0m\u001b[1;31m \u001b[0mWord wrap text. Justify \u001b[32mleft\u001b[0m, \u001b[33mcenter\u001b[0m, \u001b[34mright\u001b[0m or \u001b[31mfull\u001b[0m.              \n",
            "\u001b[1;31m              \u001b[0m                                                                  \n",
            "\u001b[1;31m              \u001b[0m\u001b[32mLorem ipsum    \u001b[0m \u001b[33m  Lorem ipsum  \u001b[0m \u001b[34m     Lorem ipsum\u001b[0m \u001b[31mLorem\u001b[0m\u001b[31m      \u001b[0m\u001b[31mipsum\u001b[0m \n",
            "\u001b[1;31m              \u001b[0m\u001b[32mdolor sit amet,\u001b[0m \u001b[33mdolor sit amet,\u001b[0m \u001b[34m dolor sit amet,\u001b[0m \u001b[31mdolor\u001b[0m\u001b[31m \u001b[0m\u001b[31msit\u001b[0m\u001b[31m  \u001b[0m\u001b[31mamet,\u001b[0m \n",
            "\u001b[1;31m              \u001b[0m\u001b[32mconsectetur    \u001b[0m \u001b[33m  consectetur  \u001b[0m \u001b[34m     consectetur\u001b[0m \u001b[31mconsectetur\u001b[0m      \n",
            "\u001b[1;31m              \u001b[0m\u001b[32madipiscing     \u001b[0m \u001b[33m  adipiscing   \u001b[0m \u001b[34madipiscing elit.\u001b[0m \u001b[31madipiscing\u001b[0m\u001b[31m \u001b[0m\u001b[31melit.\u001b[0m \n",
            "\u001b[1;31m              \u001b[0m\u001b[32melit. Quisque  \u001b[0m \u001b[33m elit. Quisque \u001b[0m \u001b[34mQuisque in metus\u001b[0m \u001b[31mQuisque\u001b[0m\u001b[31m \u001b[0m\u001b[31min\u001b[0m\u001b[31m \u001b[0m\u001b[31mmetus\u001b[0m \n",
            "\u001b[1;31m              \u001b[0m\u001b[32min metus sed   \u001b[0m \u001b[33m in metus sed  \u001b[0m \u001b[34m      sed sapien\u001b[0m \u001b[31msed\u001b[0m\u001b[31m       \u001b[0m\u001b[31msapien\u001b[0m \n",
            "\u001b[1;31m              \u001b[0m\u001b[32msapien         \u001b[0m \u001b[33m    sapien     \u001b[0m \u001b[34m       ultricies\u001b[0m \u001b[31multricies\u001b[0m        \n",
            "\u001b[1;31m              \u001b[0m\u001b[32multricies      \u001b[0m \u001b[33m   ultricies   \u001b[0m \u001b[34m    pretium a at\u001b[0m \u001b[31mpretium\u001b[0m\u001b[31m   \u001b[0m\u001b[31ma\u001b[0m\u001b[31m   \u001b[0m\u001b[31mat\u001b[0m \n",
            "\u001b[1;31m              \u001b[0m\u001b[32mpretium a at   \u001b[0m \u001b[33m pretium a at  \u001b[0m \u001b[34m justo. Maecenas\u001b[0m \u001b[31mjusto.\u001b[0m\u001b[31m  \u001b[0m\u001b[31mMaecenas\u001b[0m \n",
            "\u001b[1;31m              \u001b[0m\u001b[32mjusto. Maecenas\u001b[0m \u001b[33mjusto. Maecenas\u001b[0m \u001b[34m luctus velit et\u001b[0m \u001b[31mluctus\u001b[0m\u001b[31m \u001b[0m\u001b[31mvelit\u001b[0m\u001b[31m  \u001b[0m\u001b[31met\u001b[0m \n",
            "\u001b[1;31m              \u001b[0m\u001b[32mluctus velit et\u001b[0m \u001b[33mluctus velit et\u001b[0m \u001b[34m auctor maximus.\u001b[0m \u001b[31mauctor maximus.\u001b[0m  \n",
            "\u001b[1;31m              \u001b[0m\u001b[32mauctor maximus.\u001b[0m \u001b[33mauctor maximus.\u001b[0m                                   \n",
            "\u001b[1;31m              \u001b[0m                                                                  \n",
            "\u001b[1;31m \u001b[0m\u001b[1;31m   Asian    \u001b[0m\u001b[1;31m \u001b[0m🇨🇳  该库支持中文，日文和韩文文本！                                \n",
            "\u001b[1;31m \u001b[0m\u001b[1;31m  language  \u001b[0m\u001b[1;31m \u001b[0m🇯🇵                                                                \n",
            "\u001b[1;31m \u001b[0m\u001b[1;31m  support   \u001b[0m\u001b[1;31m \u001b[0mライブラリは中国語、日本語、韓国語のテキストをサポートしています  \n",
            "\u001b[1;31m              \u001b[0m🇰🇷  이 라이브러리는 중국어, 일본어 및 한국어 텍스트를 지원합니다  \n",
            "\u001b[1;31m              \u001b[0m                                                                  \n",
            "\u001b[1;31m \u001b[0m\u001b[1;31m   Markup   \u001b[0m\u001b[1;31m \u001b[0m\u001b[1;35mRich\u001b[0m supports a simple \u001b[3mbbcode\u001b[0m-like \u001b[1mmarkup\u001b[0m for \u001b[33mcolor\u001b[0m, \u001b[4mstyle\u001b[0m, and   \n",
            "\u001b[1;31m              \u001b[0memoji! 👍 🍎 🐜 🐻 🥖 🚌                                          \n",
            "\u001b[1;31m              \u001b[0m                                                                  \n",
            "\u001b[1;31m \u001b[0m\u001b[1;31m   Tables   \u001b[0m\u001b[1;31m \u001b[0m\u001b[1m \u001b[0m\u001b[1;32mDate\u001b[0m\u001b[1m        \u001b[0m\u001b[1m \u001b[0m \u001b[1m \u001b[0m\u001b[1;34mTitle\u001b[0m\u001b[1m      \u001b[0m\u001b[1m \u001b[0m \u001b[1m \u001b[0m\u001b[1;36mProduction Budget\u001b[0m\u001b[1m \u001b[0m \u001b[1m \u001b[0m\u001b[1m    \u001b[0m\u001b[1;35mBox Office\u001b[0m\u001b[1m \u001b[0m \n",
            "\u001b[1;31m              \u001b[0m───────────────────────────────────────────────────────────────── \n",
            "\u001b[1;31m              \u001b[0m\u001b[32m \u001b[0m\u001b[32mDec 20, 2019\u001b[0m\u001b[32m \u001b[0m \u001b[34m \u001b[0m\u001b[34mStar Wars: \u001b[0m\u001b[34m \u001b[0m \u001b[36m \u001b[0m\u001b[36m     $275,000,000\u001b[0m\u001b[36m \u001b[0m \u001b[35m \u001b[0m\u001b[35m  $375,126,118\u001b[0m\u001b[35m \u001b[0m \n",
            "\u001b[1;31m              \u001b[0m\u001b[32m              \u001b[0m \u001b[34m \u001b[0m\u001b[34mThe Rise of\u001b[0m\u001b[34m \u001b[0m \u001b[36m                   \u001b[0m \u001b[35m                \u001b[0m \n",
            "\u001b[1;31m              \u001b[0m\u001b[32m              \u001b[0m \u001b[34m \u001b[0m\u001b[34mSkywalker  \u001b[0m\u001b[34m \u001b[0m \u001b[36m                   \u001b[0m \u001b[35m                \u001b[0m \n",
            "\u001b[1;31m              \u001b[0m\u001b[2;32m \u001b[0m\u001b[2;32mMay 25, 2018\u001b[0m\u001b[2;32m \u001b[0m \u001b[2;34m \u001b[0m\u001b[1;2;34mSolo\u001b[0m\u001b[2;34m: A    \u001b[0m\u001b[2;34m \u001b[0m \u001b[2;36m \u001b[0m\u001b[2;36m     $275,000,000\u001b[0m\u001b[2;36m \u001b[0m \u001b[2;35m \u001b[0m\u001b[2;35m  $393,151,347\u001b[0m\u001b[2;35m \u001b[0m \n",
            "\u001b[1;31m              \u001b[0m\u001b[2;32m              \u001b[0m \u001b[2;34m \u001b[0m\u001b[2;34mStar Wars  \u001b[0m\u001b[2;34m \u001b[0m \u001b[2;36m                   \u001b[0m \u001b[2;35m                \u001b[0m \n",
            "\u001b[1;31m              \u001b[0m\u001b[2;32m              \u001b[0m \u001b[2;34m \u001b[0m\u001b[2;34mStory      \u001b[0m\u001b[2;34m \u001b[0m \u001b[2;36m                   \u001b[0m \u001b[2;35m                \u001b[0m \n",
            "\u001b[1;31m              \u001b[0m\u001b[32m \u001b[0m\u001b[32mDec 15, 2017\u001b[0m\u001b[32m \u001b[0m \u001b[34m \u001b[0m\u001b[34mStar Wars  \u001b[0m\u001b[34m \u001b[0m \u001b[36m \u001b[0m\u001b[36m     $262,000,000\u001b[0m\u001b[36m \u001b[0m \u001b[35m \u001b[0m\u001b[1;35m$1,332,539,889\u001b[0m\u001b[35m \u001b[0m \n",
            "\u001b[1;31m              \u001b[0m\u001b[32m              \u001b[0m \u001b[34m \u001b[0m\u001b[34mEp. VIII:  \u001b[0m\u001b[34m \u001b[0m \u001b[36m                   \u001b[0m \u001b[35m                \u001b[0m \n",
            "\u001b[1;31m              \u001b[0m\u001b[32m              \u001b[0m \u001b[34m \u001b[0m\u001b[34mThe Last   \u001b[0m\u001b[34m \u001b[0m \u001b[36m                   \u001b[0m \u001b[35m                \u001b[0m \n",
            "\u001b[1;31m              \u001b[0m\u001b[32m              \u001b[0m \u001b[34m \u001b[0m\u001b[34mJedi       \u001b[0m\u001b[34m \u001b[0m \u001b[36m                   \u001b[0m \u001b[35m                \u001b[0m \n",
            "\u001b[1;31m              \u001b[0m\u001b[2;32m \u001b[0m\u001b[2;32mMay 19, 1999\u001b[0m\u001b[2;32m \u001b[0m \u001b[2;34m \u001b[0m\u001b[2;34mStar Wars  \u001b[0m\u001b[2;34m \u001b[0m \u001b[2;36m \u001b[0m\u001b[2;36m     $115,000,000\u001b[0m\u001b[2;36m \u001b[0m \u001b[2;35m \u001b[0m\u001b[2;35m$1,027,044,677\u001b[0m\u001b[2;35m \u001b[0m \n",
            "\u001b[1;31m              \u001b[0m\u001b[2;32m              \u001b[0m \u001b[2;34m \u001b[0m\u001b[2;34mEp. \u001b[0m\u001b[1;2;34mI\u001b[0m\u001b[2;34m: \u001b[0m\u001b[2;3;34mThe \u001b[0m\u001b[2;34m \u001b[0m \u001b[2;36m                   \u001b[0m \u001b[2;35m                \u001b[0m \n",
            "\u001b[1;31m              \u001b[0m\u001b[2;32m              \u001b[0m \u001b[2;34m \u001b[0m\u001b[2;3;34mphantom \u001b[0m\u001b[2;34m   \u001b[0m\u001b[2;34m \u001b[0m \u001b[2;36m                   \u001b[0m \u001b[2;35m                \u001b[0m \n",
            "\u001b[1;31m              \u001b[0m\u001b[2;32m              \u001b[0m \u001b[2;34m \u001b[0m\u001b[2;3;34mMenace\u001b[0m\u001b[2;34m     \u001b[0m\u001b[2;34m \u001b[0m \u001b[2;36m                   \u001b[0m \u001b[2;35m                \u001b[0m \n",
            "\u001b[1;31m              \u001b[0m                                                                  \n",
            "\u001b[1;31m \u001b[0m\u001b[1;31m   Syntax   \u001b[0m\u001b[1;31m \u001b[0m\u001b[40m  \u001b[0m\u001b[2;40m 1 \u001b[0m\u001b[96;40mdef\u001b[0m\u001b[97;40m \u001b[0m\u001b[92;40miter_last\u001b[0m\u001b[97;40m(\u001b[0m\u001b[97;40mvalues\u001b[0m\u001b[97;40m:\u001b[0m\u001b[97;40m \u001b[0m\u001b[97;40mItera\u001b[0m  \u001b[1m{\u001b[0m                               \n",
            "\u001b[1;31m \u001b[0m\u001b[1;31mhighlighting\u001b[0m\u001b[1;31m \u001b[0m\u001b[40m  \u001b[0m\u001b[2;40m 2 \u001b[0m\u001b[2;90;40m│   \u001b[0m\u001b[93;40m\"\"\"Iterate and generate\u001b[0m  \u001b[2;32m│   \u001b[0m\u001b[32m'foo'\u001b[0m: \u001b[1m[\u001b[0m                    \n",
            "\u001b[1;31m \u001b[0m\u001b[1;31m     &      \u001b[0m\u001b[1;31m \u001b[0m\u001b[40m  \u001b[0m\u001b[2;40m 3 \u001b[0m\u001b[2;90;40m│   \u001b[0m\u001b[97;40miter_values\u001b[0m\u001b[97;40m \u001b[0m\u001b[91;40m=\u001b[0m\u001b[97;40m \u001b[0m\u001b[97;40miter\u001b[0m\u001b[97;40m(\u001b[0m\u001b[97;40mvalu\u001b[0m  \u001b[2;32m│   │   \u001b[0m\u001b[1;36m3.1427\u001b[0m,                 \n",
            "\u001b[1;31m \u001b[0m\u001b[1;31m   pretty   \u001b[0m\u001b[1;31m \u001b[0m\u001b[40m  \u001b[0m\u001b[2;40m 4 \u001b[0m\u001b[2;90;40m│   \u001b[0m\u001b[96;40mtry\u001b[0m\u001b[97;40m:\u001b[0m\u001b[40m                   \u001b[0m  \u001b[2;32m│   │   \u001b[0m\u001b[1m(\u001b[0m                       \n",
            "\u001b[1;31m \u001b[0m\u001b[1;31m  printing  \u001b[0m\u001b[1;31m \u001b[0m\u001b[40m  \u001b[0m\u001b[2;40m 5 \u001b[0m\u001b[2;90;40m│   │   \u001b[0m\u001b[97;40mprevious_value\u001b[0m\u001b[97;40m \u001b[0m\u001b[91;40m=\u001b[0m\u001b[97;40m \u001b[0m\u001b[97;40mne\u001b[0m  \u001b[2;32m│   │   │   \u001b[0m\u001b[32m'Paul Atreides'\u001b[0m,    \n",
            "\u001b[1;31m              \u001b[0m\u001b[40m  \u001b[0m\u001b[2;40m 6 \u001b[0m\u001b[2;90;40m│   \u001b[0m\u001b[96;40mexcept\u001b[0m\u001b[97;40m \u001b[0m\u001b[92;40mStopIteration\u001b[0m\u001b[97;40m:\u001b[0m\u001b[40m  \u001b[0m  \u001b[2;32m│   │   │   \u001b[0m\u001b[32m'Vladimir \u001b[0m          \n",
            "\u001b[1;31m              \u001b[0m\u001b[40m  \u001b[0m\u001b[2;40m 7 \u001b[0m\u001b[2;90;40m│   │   \u001b[0m\u001b[96;40mreturn\u001b[0m\u001b[40m             \u001b[0m  \u001b[32mHarkonnen'\u001b[0m,                     \n",
            "\u001b[1;31m              \u001b[0m\u001b[40m  \u001b[0m\u001b[2;40m 8 \u001b[0m\u001b[2;90;40m│   \u001b[0m\u001b[96;40mfor\u001b[0m\u001b[97;40m \u001b[0m\u001b[97;40mvalue\u001b[0m\u001b[97;40m \u001b[0m\u001b[91;40min\u001b[0m\u001b[97;40m \u001b[0m\u001b[97;40miter_value\u001b[0m  \u001b[2;32m│   │   │   \u001b[0m\u001b[32m'Thufir Hawat'\u001b[0m      \n",
            "\u001b[1;31m              \u001b[0m\u001b[40m  \u001b[0m\u001b[2;40m 9 \u001b[0m\u001b[2;90;40m│   │   \u001b[0m\u001b[96;40myield\u001b[0m\u001b[97;40m \u001b[0m\u001b[96;40mFalse\u001b[0m\u001b[97;40m,\u001b[0m\u001b[97;40m \u001b[0m\u001b[97;40mprevio\u001b[0m  \u001b[2;32m│   │   \u001b[0m\u001b[1m)\u001b[0m                       \n",
            "\u001b[1;31m              \u001b[0m\u001b[40m  \u001b[0m\u001b[2;40m10 \u001b[0m\u001b[2;90;40m│   │   \u001b[0m\u001b[97;40mprevious_value\u001b[0m\u001b[97;40m \u001b[0m\u001b[91;40m=\u001b[0m\u001b[97;40m \u001b[0m\u001b[97;40mva\u001b[0m  \u001b[2;32m│   \u001b[0m\u001b[1m]\u001b[0m,                          \n",
            "\u001b[1;31m              \u001b[0m\u001b[40m  \u001b[0m\u001b[2;40m11 \u001b[0m\u001b[2;90;40m│   \u001b[0m\u001b[96;40myield\u001b[0m\u001b[97;40m \u001b[0m\u001b[96;40mTrue\u001b[0m\u001b[97;40m,\u001b[0m\u001b[97;40m \u001b[0m\u001b[97;40mprevious_va\u001b[0m  \u001b[2;32m│   \u001b[0m\u001b[32m'atomic'\u001b[0m: \u001b[1m(\u001b[0m                 \n",
            "\u001b[1;31m              \u001b[0m                                  \u001b[2;32m│   │   \u001b[0m\u001b[3;91mFalse\u001b[0m,                  \n",
            "\u001b[1;31m              \u001b[0m                                  \u001b[2;32m│   │   \u001b[0m\u001b[3;92mTrue\u001b[0m,                   \n",
            "\u001b[1;31m              \u001b[0m                                  \u001b[2;32m│   │   \u001b[0m\u001b[3;35mNone\u001b[0m                    \n",
            "\u001b[1;31m              \u001b[0m                                  \u001b[2;32m│   \u001b[0m\u001b[1m)\u001b[0m                           \n",
            "\u001b[1;31m              \u001b[0m                                  \u001b[1m}\u001b[0m                               \n",
            "\u001b[1;31m              \u001b[0m                                                                  \n",
            "\u001b[1;31m \u001b[0m\u001b[1;31m  Markdown  \u001b[0m\u001b[1;31m \u001b[0m\u001b[36m# Markdown\u001b[0m                        ┏━━━━━━━━━━━━━━━━━━━━━━━━━━━━━┓ \n",
            "\u001b[1;31m              \u001b[0m                                  ┃          \u001b[1mMarkdown\u001b[0m           ┃ \n",
            "\u001b[1;31m              \u001b[0m\u001b[36mSupports much of the *markdown* \u001b[0m  ┗━━━━━━━━━━━━━━━━━━━━━━━━━━━━━┛ \n",
            "\u001b[1;31m              \u001b[0m\u001b[36m__syntax__!\u001b[0m                                                       \n",
            "\u001b[1;31m              \u001b[0m                                  Supports much of the \u001b[3mmarkdown\u001b[0m   \n",
            "\u001b[1;31m              \u001b[0m\u001b[36m- Headers\u001b[0m                         \u001b[1msyntax\u001b[0m!                         \n",
            "\u001b[1;31m              \u001b[0m\u001b[36m- Basic formatting: **bold**, \u001b[0m                                    \n",
            "\u001b[1;31m              \u001b[0m\u001b[36m*italic*, `code`\u001b[0m                  \u001b[1;33m • \u001b[0mHeaders                      \n",
            "\u001b[1;31m              \u001b[0m\u001b[36m- Block quotes\u001b[0m                    \u001b[1;33m • \u001b[0mBasic formatting: \u001b[1mbold\u001b[0m,      \n",
            "\u001b[1;31m              \u001b[0m\u001b[36m- Lists, and more...\u001b[0m              \u001b[1;33m   \u001b[0m\u001b[3mitalic\u001b[0m, \u001b[1;36;40mcode\u001b[0m                 \n",
            "\u001b[1;31m              \u001b[0m\u001b[36m    \u001b[0m                              \u001b[1;33m • \u001b[0mBlock quotes                 \n",
            "\u001b[1;31m              \u001b[0m                                  \u001b[1;33m • \u001b[0mLists, and more...           \n",
            "\u001b[1;31m              \u001b[0m                                                                  \n",
            "\u001b[1;31m \u001b[0m\u001b[1;31m   +more!   \u001b[0m\u001b[1;31m \u001b[0mProgress bars, columns, styled logging handler, tracebacks,       \n",
            "\u001b[1;31m              \u001b[0metc...                                                            \n",
            "\u001b[1;31m              \u001b[0m                                                                  \n",
            "rendered in 91.6ms (cold cache)\n",
            "rendered in 37.9ms (warm cache)\n",
            "\u001b[94m╭─\u001b[0m\u001b[94m───────────────────────\u001b[0m\u001b[94m \u001b[0m\u001b[1;31mThanks for trying out Rich!\u001b[0m\u001b[94m \u001b[0m\u001b[94m────────────────────────\u001b[0m\u001b[94m─╮\u001b[0m\n",
            "\u001b[94m│\u001b[0m                                                                              \u001b[94m│\u001b[0m\n",
            "\u001b[94m│\u001b[0m  We hope you enjoy using Rich!   \u001b[32mTextualize\u001b[0m\u001b[32m \u001b[0m\u001b]8;id=863470;https://github.com/textualize\u001b\\\u001b[4;34mhttps://github.com/textualize\u001b[0m\u001b]8;;\u001b\\    \u001b[94m│\u001b[0m\n",
            "\u001b[94m│\u001b[0m                                  \u001b[32m           \u001b[0m                                 \u001b[94m│\u001b[0m\n",
            "\u001b[94m│\u001b[0m  Rich is maintained with \u001b[31m❤\u001b[0m by    \u001b[32m   Twitter\u001b[0m\u001b[32m \u001b[0m\u001b]8;id=528142;https://twitter.com/willmcgugan\u001b\\\u001b[4;34mhttps://twitter.com/willmcgugan\u001b[0m\u001b]8;;\u001b\\  \u001b[94m│\u001b[0m\n",
            "\u001b[94m│\u001b[0m  \u001b]8;id=832918;https://www.textualize.io\u001b\\Textualize.io\u001b]8;;\u001b\\                                                               \u001b[94m│\u001b[0m\n",
            "\u001b[94m│\u001b[0m                                                                              \u001b[94m│\u001b[0m\n",
            "\u001b[94m│\u001b[0m  - Will McGugan                                                              \u001b[94m│\u001b[0m\n",
            "\u001b[94m│\u001b[0m                                                                              \u001b[94m│\u001b[0m\n",
            "\u001b[94m╰──────────────────────────────────────────────────────────────────────────────╯\u001b[0m\n"
          ]
        }
      ]
    },
    {
      "cell_type": "markdown",
      "source": [
        "## Loading the dependencies"
      ],
      "metadata": {
        "id": "9LYGuC9y-GWR"
      }
    },
    {
      "cell_type": "code",
      "source": [
        "## We have to get access to planetary_computer API"
      ],
      "metadata": {
        "id": "c-Cd5RARK5yp"
      },
      "execution_count": null,
      "outputs": []
    },
    {
      "cell_type": "code",
      "source": [
        "from odc import stac\n",
        "# Supress Warnings\n",
        "import warnings\n",
        "warnings.filterwarnings('ignore')\n",
        "\n",
        "# Visualization\n",
        "import ipyleaflet\n",
        "import matplotlib.pyplot as plt\n",
        "from IPython.display import Image\n",
        "import seaborn as sns\n",
        "\n",
        "# Data Science\n",
        "import numpy as np\n",
        "import pandas as pd\n",
        "\n",
        "# Feature Engineering\n",
        "from sklearn.preprocessing import StandardScaler\n",
        "from sklearn.model_selection import train_test_split\n",
        "\n",
        "# Machine Learning\n",
        "from sklearn.linear_model import LogisticRegression\n",
        "from sklearn.metrics import f1_score, accuracy_score,classification_report,confusion_matrix\n",
        "\n",
        "# Planetary Computer Tools\n",
        "import pystac\n",
        "import pystac_client\n",
        "# import odc-stac\n",
        "from pystac_client import Client\n",
        "from pystac.extensions.eo import EOExtension as eo\n",
        "from odc.stac import stac_load\n",
        "import planetary_computer as pc\n",
        "pc.settings.set_subscription_key('8037994b42c1450e9a4daca46c196464')\n",
        "\n",
        "# Others\n",
        "import requests\n",
        "import rich.table"
      ],
      "metadata": {
        "id": "x7D9Lbl58paq"
      },
      "execution_count": null,
      "outputs": []
    },
    {
      "cell_type": "code",
      "source": [
        "from itertools import cycle\n",
        "from tqdm import tqdm\n",
        "tqdm.pandas()"
      ],
      "metadata": {
        "id": "Q0pmPRgpIeEV"
      },
      "execution_count": null,
      "outputs": []
    },
    {
      "cell_type": "code",
      "source": [
        "## Curated the data from a certain region of Vietnam in 2020\n",
        "crop_presence_data = pd.read_csv(\"/content/drive/MyDrive/Crop_Location_Data_20221201.csv\")\n",
        "crop_presence_data.head()"
      ],
      "metadata": {
        "colab": {
          "base_uri": "https://localhost:8080/",
          "height": 206
        },
        "id": "hQjB6lJ5-Rep",
        "outputId": "d66d1db2-5c5f-4c7f-9c4f-bea118545262"
      },
      "execution_count": null,
      "outputs": [
        {
          "output_type": "execute_result",
          "data": {
            "text/plain": [
              "                     Latitude and Longitude Class of Land\n",
              "0   (10.323727047081501, 105.2516346045924)          Rice\n",
              "1  (10.322364360592521, 105.27843410554115)          Rice\n",
              "2  (10.321455902933202, 105.25254306225168)          Rice\n",
              "3  (10.324181275911162, 105.25118037576274)          Rice\n",
              "4  (10.324635504740822, 105.27389181724476)          Rice"
            ],
            "text/html": [
              "\n",
              "  <div id=\"df-50196c49-05f9-4564-92a4-ee247579acb4\">\n",
              "    <div class=\"colab-df-container\">\n",
              "      <div>\n",
              "<style scoped>\n",
              "    .dataframe tbody tr th:only-of-type {\n",
              "        vertical-align: middle;\n",
              "    }\n",
              "\n",
              "    .dataframe tbody tr th {\n",
              "        vertical-align: top;\n",
              "    }\n",
              "\n",
              "    .dataframe thead th {\n",
              "        text-align: right;\n",
              "    }\n",
              "</style>\n",
              "<table border=\"1\" class=\"dataframe\">\n",
              "  <thead>\n",
              "    <tr style=\"text-align: right;\">\n",
              "      <th></th>\n",
              "      <th>Latitude and Longitude</th>\n",
              "      <th>Class of Land</th>\n",
              "    </tr>\n",
              "  </thead>\n",
              "  <tbody>\n",
              "    <tr>\n",
              "      <th>0</th>\n",
              "      <td>(10.323727047081501, 105.2516346045924)</td>\n",
              "      <td>Rice</td>\n",
              "    </tr>\n",
              "    <tr>\n",
              "      <th>1</th>\n",
              "      <td>(10.322364360592521, 105.27843410554115)</td>\n",
              "      <td>Rice</td>\n",
              "    </tr>\n",
              "    <tr>\n",
              "      <th>2</th>\n",
              "      <td>(10.321455902933202, 105.25254306225168)</td>\n",
              "      <td>Rice</td>\n",
              "    </tr>\n",
              "    <tr>\n",
              "      <th>3</th>\n",
              "      <td>(10.324181275911162, 105.25118037576274)</td>\n",
              "      <td>Rice</td>\n",
              "    </tr>\n",
              "    <tr>\n",
              "      <th>4</th>\n",
              "      <td>(10.324635504740822, 105.27389181724476)</td>\n",
              "      <td>Rice</td>\n",
              "    </tr>\n",
              "  </tbody>\n",
              "</table>\n",
              "</div>\n",
              "      <button class=\"colab-df-convert\" onclick=\"convertToInteractive('df-50196c49-05f9-4564-92a4-ee247579acb4')\"\n",
              "              title=\"Convert this dataframe to an interactive table.\"\n",
              "              style=\"display:none;\">\n",
              "        \n",
              "  <svg xmlns=\"http://www.w3.org/2000/svg\" height=\"24px\"viewBox=\"0 0 24 24\"\n",
              "       width=\"24px\">\n",
              "    <path d=\"M0 0h24v24H0V0z\" fill=\"none\"/>\n",
              "    <path d=\"M18.56 5.44l.94 2.06.94-2.06 2.06-.94-2.06-.94-.94-2.06-.94 2.06-2.06.94zm-11 1L8.5 8.5l.94-2.06 2.06-.94-2.06-.94L8.5 2.5l-.94 2.06-2.06.94zm10 10l.94 2.06.94-2.06 2.06-.94-2.06-.94-.94-2.06-.94 2.06-2.06.94z\"/><path d=\"M17.41 7.96l-1.37-1.37c-.4-.4-.92-.59-1.43-.59-.52 0-1.04.2-1.43.59L10.3 9.45l-7.72 7.72c-.78.78-.78 2.05 0 2.83L4 21.41c.39.39.9.59 1.41.59.51 0 1.02-.2 1.41-.59l7.78-7.78 2.81-2.81c.8-.78.8-2.07 0-2.86zM5.41 20L4 18.59l7.72-7.72 1.47 1.35L5.41 20z\"/>\n",
              "  </svg>\n",
              "      </button>\n",
              "      \n",
              "  <style>\n",
              "    .colab-df-container {\n",
              "      display:flex;\n",
              "      flex-wrap:wrap;\n",
              "      gap: 12px;\n",
              "    }\n",
              "\n",
              "    .colab-df-convert {\n",
              "      background-color: #E8F0FE;\n",
              "      border: none;\n",
              "      border-radius: 50%;\n",
              "      cursor: pointer;\n",
              "      display: none;\n",
              "      fill: #1967D2;\n",
              "      height: 32px;\n",
              "      padding: 0 0 0 0;\n",
              "      width: 32px;\n",
              "    }\n",
              "\n",
              "    .colab-df-convert:hover {\n",
              "      background-color: #E2EBFA;\n",
              "      box-shadow: 0px 1px 2px rgba(60, 64, 67, 0.3), 0px 1px 3px 1px rgba(60, 64, 67, 0.15);\n",
              "      fill: #174EA6;\n",
              "    }\n",
              "\n",
              "    [theme=dark] .colab-df-convert {\n",
              "      background-color: #3B4455;\n",
              "      fill: #D2E3FC;\n",
              "    }\n",
              "\n",
              "    [theme=dark] .colab-df-convert:hover {\n",
              "      background-color: #434B5C;\n",
              "      box-shadow: 0px 1px 3px 1px rgba(0, 0, 0, 0.15);\n",
              "      filter: drop-shadow(0px 1px 2px rgba(0, 0, 0, 0.3));\n",
              "      fill: #FFFFFF;\n",
              "    }\n",
              "  </style>\n",
              "\n",
              "      <script>\n",
              "        const buttonEl =\n",
              "          document.querySelector('#df-50196c49-05f9-4564-92a4-ee247579acb4 button.colab-df-convert');\n",
              "        buttonEl.style.display =\n",
              "          google.colab.kernel.accessAllowed ? 'block' : 'none';\n",
              "\n",
              "        async function convertToInteractive(key) {\n",
              "          const element = document.querySelector('#df-50196c49-05f9-4564-92a4-ee247579acb4');\n",
              "          const dataTable =\n",
              "            await google.colab.kernel.invokeFunction('convertToInteractive',\n",
              "                                                     [key], {});\n",
              "          if (!dataTable) return;\n",
              "\n",
              "          const docLinkHtml = 'Like what you see? Visit the ' +\n",
              "            '<a target=\"_blank\" href=https://colab.research.google.com/notebooks/data_table.ipynb>data table notebook</a>'\n",
              "            + ' to learn more about interactive tables.';\n",
              "          element.innerHTML = '';\n",
              "          dataTable['output_type'] = 'display_data';\n",
              "          await google.colab.output.renderOutput(dataTable, element);\n",
              "          const docLink = document.createElement('div');\n",
              "          docLink.innerHTML = docLinkHtml;\n",
              "          element.appendChild(docLink);\n",
              "        }\n",
              "      </script>\n",
              "    </div>\n",
              "  </div>\n",
              "  "
            ]
          },
          "metadata": {},
          "execution_count": 9
        }
      ]
    },
    {
      "cell_type": "markdown",
      "source": [
        "Sentinel-1 radar data penetrates through the clouds, thus helping us to get the band values with minimal atmospheric attenuation. Band values such as VV and VH help us in distinguishing between the rice and non rice crops. Hence we are choosing VV and VH as predictor variables for this experiment.\n",
        "\n",
        "VV - gamma naught values of signal transmitted with vertical polarization and received with vertical polarization with radiometric terrain correction applied.\n",
        "\n",
        "VH - gamma naught values of signal transmitted with vertical polarization and received with horizontal polarization with radiometric terrain correction applied."
      ],
      "metadata": {
        "id": "CUyuwrOWFed-"
      }
    },
    {
      "cell_type": "code",
      "source": [
        "# !pip install odc\n",
        "import odc"
      ],
      "metadata": {
        "id": "hNiQMehQXPs1"
      },
      "execution_count": null,
      "outputs": []
    },
    {
      "cell_type": "code",
      "source": [
        "def get_sentinel_data(latlong,time_slice,assets):\n",
        "    '''\n",
        "    Returns VV and VH values for a given latitude and longitude \n",
        "    Attributes:\n",
        "    latlong - A tuple with 2 elements - latitude and longitude\n",
        "    time_slice - Timeframe for which the VV and VH values have to be extracted\n",
        "    assets - A list of bands to be extracted\n",
        "    '''\n",
        "    #latlong = (10.013942985253381, 105.67361318732796)\n",
        "    latlong=latlong.replace('(','').replace(')','').replace(' ','').split(',')\n",
        "    for i in range(2):\n",
        "      latlong[i] = float(latlong[i])\n",
        "\n",
        "    \n",
        "    #bbox_of_interest = (float(latlong[1]) , float(latlong[0]), float(latlong[1]) , float(latlong[0]))\n",
        "    time_of_interest = time_slice\n",
        "    box_size_deg = 0.0004 # Surrounding box in degrees, yields approximately 5x5 pixel region\n",
        "\n",
        "    min_lon = latlong[1]-box_size_deg/2\n",
        "    min_lat = latlong[0]-box_size_deg/2\n",
        "    max_lon = latlong[1]+box_size_deg/2\n",
        "    max_lat = latlong[0]+box_size_deg/2\n",
        "\n",
        "    bbox_of_interest = (min_lon, min_lat, max_lon, max_lat)\n",
        "    ###\n",
        "\n",
        "    catalog = pystac_client.Client.open(\n",
        "        \"https://planetarycomputer.microsoft.com/api/stac/v1\"\n",
        "    )\n",
        "    search = catalog.search(\n",
        "        collections=[\"sentinel-1-rtc\"], bbox=bbox_of_interest, datetime=time_of_interest\n",
        "    )\n",
        "    items = list(search.get_all_items())\n",
        "    bands_of_interest = assests\n",
        "    resolution = 10  # meters per pixel \n",
        "    scale = resolution / 111320.0\n",
        "    data = stac_load([items[0]], bands = bands_of_interest, patch_url=pc.sign,crs=\"EPSG:4326\",resolution=scale,bbox=bbox_of_interest)\n",
        "    vh = data[\"vh\"].astype(\"float\").values.tolist()[0][0]\n",
        "    vv = data[\"vv\"].astype(\"float\").values.tolist()[0][0]\n",
        "\n",
        "    mean = data.mean(dim=['latitude','longitude']).compute()\n",
        "    dop = (mean.vv / (mean.vv + mean.vh))\n",
        "    m = 1 - dop\n",
        "    rvi = (np.sqrt(dop))*((4*mean.vh)/(mean.vv + mean.vh))\n",
        "    return vh[0],vv[0]"
      ],
      "metadata": {
        "id": "rhG59DZeFLWJ"
      },
      "execution_count": null,
      "outputs": []
    },
    {
      "cell_type": "code",
      "source": [
        "# xx = odc.stac.load(...crs=\"EPSG:3857\",resolution=10)\n",
        "# yy = odc.stac.load(...crs=\"EPSG:4326\",resolution=0.00009009)"
      ],
      "metadata": {
        "id": "VcJCJyjD2NIV"
      },
      "execution_count": null,
      "outputs": []
    },
    {
      "cell_type": "code",
      "source": [
        "## Sentinel-radiometric data\n",
        "# catalog = pystac_client.Client.open(\n",
        "#     \"https://planetarycomputer.microsoft.com/api/stac/v1\",\n",
        "#     modifier=pc.sign_inplace,\n",
        "# )"
      ],
      "metadata": {
        "id": "LBHbuuU0fGuh"
      },
      "execution_count": null,
      "outputs": []
    },
    {
      "cell_type": "code",
      "source": [
        "# ## Just searching for assets over Panama in order to \n",
        "# bbox = [-80.11, 8.71, -79.24, 9.38]\n",
        "# search = catalog.search(\n",
        "#     collections=[\"sentinel-1-rtc\"], bbox=bbox, datetime=\"2022-05-02/2022-05-09\"\n",
        "# )\n",
        "# items = search.item_collection()\n",
        "# print(f\"Found {len(items)} items\")\n",
        "# item = items[0]"
      ],
      "metadata": {
        "colab": {
          "base_uri": "https://localhost:8080/"
        },
        "id": "dbKV8kGsfxb4",
        "outputId": "67d6638b-9d1e-43a3-e983-851653b87719"
      },
      "execution_count": null,
      "outputs": [
        {
          "output_type": "stream",
          "name": "stdout",
          "text": [
            "Found 3 items\n"
          ]
        }
      ]
    },
    {
      "cell_type": "code",
      "source": [
        "# Image(url=item.assets[\"rendered_preview\"].href)"
      ],
      "metadata": {
        "id": "EFKTrc8Vh08R"
      },
      "execution_count": null,
      "outputs": []
    },
    {
      "cell_type": "code",
      "source": [
        "# table = rich.table.Table(\"key\", \"value\")\n",
        "# for k, v in sorted(item.properties.items()):\n",
        "#     table.add_row(k, str(v))\n",
        "\n",
        "# table"
      ],
      "metadata": {
        "id": "XCcEBqq8iAHp"
      },
      "execution_count": null,
      "outputs": []
    },
    {
      "cell_type": "code",
      "source": [
        "# time_slice = \"2020-03-20/2020-03-21\"\n",
        "time_slice = '2020-03-20/2021-03-21'\n",
        "assests = ['vh','vv']\n",
        "vh_vv = []\n",
        "for coordinates in tqdm(crop_presence_data['Latitude and Longitude']):\n",
        "    vh_vv.append(get_sentinel_data(coordinates,time_slice,assests))\n",
        "vh_vv_data = pd.DataFrame(vh_vv,columns =['vh','vv'])"
      ],
      "metadata": {
        "colab": {
          "base_uri": "https://localhost:8080/"
        },
        "id": "6_bzGpwlHg3x",
        "outputId": "371b32e1-e7cf-4ab2-d5ac-7e07f7a38ac3"
      },
      "execution_count": null,
      "outputs": [
        {
          "output_type": "stream",
          "name": "stderr",
          "text": [
            "100%|██████████| 600/600 [11:39<00:00,  1.17s/it]\n"
          ]
        }
      ]
    },
    {
      "cell_type": "code",
      "source": [
        "# latlong = '(10.323727047081501, 105.2516346045924)'\t\n",
        "# latlong=latlong.replace('(','').replace(')','').replace(' ','').split(',')\n",
        "# bbox_of_interest = [float(latlong[1]) , float(latlong[0]), float(latlong[1])+100.00 , float(latlong[0])]\n",
        "# bbox_of_interest"
      ],
      "metadata": {
        "id": "8TzdxYe1TuZ8"
      },
      "execution_count": null,
      "outputs": []
    },
    {
      "cell_type": "code",
      "source": [
        "def combine_two_datasets(dataset1,dataset2):\n",
        "    '''\n",
        "    Returns a  vertically concatenated dataset.\n",
        "    Attributes:\n",
        "    dataset1 - Dataset 1 to be combined \n",
        "    dataset2 - Dataset 2 to be combined\n",
        "    '''\n",
        "    data = pd.concat([dataset1,dataset2], axis=1)\n",
        "    return data"
      ],
      "metadata": {
        "id": "wUEqxXVMH9o7"
      },
      "execution_count": null,
      "outputs": []
    },
    {
      "cell_type": "code",
      "source": [
        "crop_data = combine_two_datasets(crop_presence_data,vh_vv_data)\n",
        "crop_data.head()"
      ],
      "metadata": {
        "id": "an57RFrkI1fP",
        "colab": {
          "base_uri": "https://localhost:8080/",
          "height": 206
        },
        "outputId": "d5e91d60-b8c1-4623-ea8f-f67b5e9d5ea9"
      },
      "execution_count": null,
      "outputs": [
        {
          "output_type": "execute_result",
          "data": {
            "text/plain": [
              "                     Latitude and Longitude Class of Land        vh        vv\n",
              "0   (10.323727047081501, 105.2516346045924)          Rice  0.028296  0.112560\n",
              "1  (10.322364360592521, 105.27843410554115)          Rice  0.051894  0.048721\n",
              "2  (10.321455902933202, 105.25254306225168)          Rice  0.033304  0.081855\n",
              "3  (10.324181275911162, 105.25118037576274)          Rice  0.010928  0.024132\n",
              "4  (10.324635504740822, 105.27389181724476)          Rice  0.012968  0.015349"
            ],
            "text/html": [
              "\n",
              "  <div id=\"df-68261a48-8c2c-42bb-b1f2-0e240d879ce9\">\n",
              "    <div class=\"colab-df-container\">\n",
              "      <div>\n",
              "<style scoped>\n",
              "    .dataframe tbody tr th:only-of-type {\n",
              "        vertical-align: middle;\n",
              "    }\n",
              "\n",
              "    .dataframe tbody tr th {\n",
              "        vertical-align: top;\n",
              "    }\n",
              "\n",
              "    .dataframe thead th {\n",
              "        text-align: right;\n",
              "    }\n",
              "</style>\n",
              "<table border=\"1\" class=\"dataframe\">\n",
              "  <thead>\n",
              "    <tr style=\"text-align: right;\">\n",
              "      <th></th>\n",
              "      <th>Latitude and Longitude</th>\n",
              "      <th>Class of Land</th>\n",
              "      <th>vh</th>\n",
              "      <th>vv</th>\n",
              "    </tr>\n",
              "  </thead>\n",
              "  <tbody>\n",
              "    <tr>\n",
              "      <th>0</th>\n",
              "      <td>(10.323727047081501, 105.2516346045924)</td>\n",
              "      <td>Rice</td>\n",
              "      <td>0.028296</td>\n",
              "      <td>0.112560</td>\n",
              "    </tr>\n",
              "    <tr>\n",
              "      <th>1</th>\n",
              "      <td>(10.322364360592521, 105.27843410554115)</td>\n",
              "      <td>Rice</td>\n",
              "      <td>0.051894</td>\n",
              "      <td>0.048721</td>\n",
              "    </tr>\n",
              "    <tr>\n",
              "      <th>2</th>\n",
              "      <td>(10.321455902933202, 105.25254306225168)</td>\n",
              "      <td>Rice</td>\n",
              "      <td>0.033304</td>\n",
              "      <td>0.081855</td>\n",
              "    </tr>\n",
              "    <tr>\n",
              "      <th>3</th>\n",
              "      <td>(10.324181275911162, 105.25118037576274)</td>\n",
              "      <td>Rice</td>\n",
              "      <td>0.010928</td>\n",
              "      <td>0.024132</td>\n",
              "    </tr>\n",
              "    <tr>\n",
              "      <th>4</th>\n",
              "      <td>(10.324635504740822, 105.27389181724476)</td>\n",
              "      <td>Rice</td>\n",
              "      <td>0.012968</td>\n",
              "      <td>0.015349</td>\n",
              "    </tr>\n",
              "  </tbody>\n",
              "</table>\n",
              "</div>\n",
              "      <button class=\"colab-df-convert\" onclick=\"convertToInteractive('df-68261a48-8c2c-42bb-b1f2-0e240d879ce9')\"\n",
              "              title=\"Convert this dataframe to an interactive table.\"\n",
              "              style=\"display:none;\">\n",
              "        \n",
              "  <svg xmlns=\"http://www.w3.org/2000/svg\" height=\"24px\"viewBox=\"0 0 24 24\"\n",
              "       width=\"24px\">\n",
              "    <path d=\"M0 0h24v24H0V0z\" fill=\"none\"/>\n",
              "    <path d=\"M18.56 5.44l.94 2.06.94-2.06 2.06-.94-2.06-.94-.94-2.06-.94 2.06-2.06.94zm-11 1L8.5 8.5l.94-2.06 2.06-.94-2.06-.94L8.5 2.5l-.94 2.06-2.06.94zm10 10l.94 2.06.94-2.06 2.06-.94-2.06-.94-.94-2.06-.94 2.06-2.06.94z\"/><path d=\"M17.41 7.96l-1.37-1.37c-.4-.4-.92-.59-1.43-.59-.52 0-1.04.2-1.43.59L10.3 9.45l-7.72 7.72c-.78.78-.78 2.05 0 2.83L4 21.41c.39.39.9.59 1.41.59.51 0 1.02-.2 1.41-.59l7.78-7.78 2.81-2.81c.8-.78.8-2.07 0-2.86zM5.41 20L4 18.59l7.72-7.72 1.47 1.35L5.41 20z\"/>\n",
              "  </svg>\n",
              "      </button>\n",
              "      \n",
              "  <style>\n",
              "    .colab-df-container {\n",
              "      display:flex;\n",
              "      flex-wrap:wrap;\n",
              "      gap: 12px;\n",
              "    }\n",
              "\n",
              "    .colab-df-convert {\n",
              "      background-color: #E8F0FE;\n",
              "      border: none;\n",
              "      border-radius: 50%;\n",
              "      cursor: pointer;\n",
              "      display: none;\n",
              "      fill: #1967D2;\n",
              "      height: 32px;\n",
              "      padding: 0 0 0 0;\n",
              "      width: 32px;\n",
              "    }\n",
              "\n",
              "    .colab-df-convert:hover {\n",
              "      background-color: #E2EBFA;\n",
              "      box-shadow: 0px 1px 2px rgba(60, 64, 67, 0.3), 0px 1px 3px 1px rgba(60, 64, 67, 0.15);\n",
              "      fill: #174EA6;\n",
              "    }\n",
              "\n",
              "    [theme=dark] .colab-df-convert {\n",
              "      background-color: #3B4455;\n",
              "      fill: #D2E3FC;\n",
              "    }\n",
              "\n",
              "    [theme=dark] .colab-df-convert:hover {\n",
              "      background-color: #434B5C;\n",
              "      box-shadow: 0px 1px 3px 1px rgba(0, 0, 0, 0.15);\n",
              "      filter: drop-shadow(0px 1px 2px rgba(0, 0, 0, 0.3));\n",
              "      fill: #FFFFFF;\n",
              "    }\n",
              "  </style>\n",
              "\n",
              "      <script>\n",
              "        const buttonEl =\n",
              "          document.querySelector('#df-68261a48-8c2c-42bb-b1f2-0e240d879ce9 button.colab-df-convert');\n",
              "        buttonEl.style.display =\n",
              "          google.colab.kernel.accessAllowed ? 'block' : 'none';\n",
              "\n",
              "        async function convertToInteractive(key) {\n",
              "          const element = document.querySelector('#df-68261a48-8c2c-42bb-b1f2-0e240d879ce9');\n",
              "          const dataTable =\n",
              "            await google.colab.kernel.invokeFunction('convertToInteractive',\n",
              "                                                     [key], {});\n",
              "          if (!dataTable) return;\n",
              "\n",
              "          const docLinkHtml = 'Like what you see? Visit the ' +\n",
              "            '<a target=\"_blank\" href=https://colab.research.google.com/notebooks/data_table.ipynb>data table notebook</a>'\n",
              "            + ' to learn more about interactive tables.';\n",
              "          element.innerHTML = '';\n",
              "          dataTable['output_type'] = 'display_data';\n",
              "          await google.colab.output.renderOutput(dataTable, element);\n",
              "          const docLink = document.createElement('div');\n",
              "          docLink.innerHTML = docLinkHtml;\n",
              "          element.appendChild(docLink);\n",
              "        }\n",
              "      </script>\n",
              "    </div>\n",
              "  </div>\n",
              "  "
            ]
          },
          "metadata": {},
          "execution_count": 14
        }
      ]
    },
    {
      "cell_type": "code",
      "source": [
        "### Radar Vegetation Index (RVI)\n",
        "# mean = d.mean(dim=['latitude','longitude']).compute()"
      ],
      "metadata": {
        "id": "mZkkgRz-xEui"
      },
      "execution_count": null,
      "outputs": []
    },
    {
      "cell_type": "code",
      "source": [
        "# crop_data.to_csv('/content/drive/MyDrive/crop_data.csv')"
      ],
      "metadata": {
        "id": "Kdcrv6w4ciRz"
      },
      "execution_count": null,
      "outputs": []
    },
    {
      "cell_type": "markdown",
      "source": [
        "## Model Building"
      ],
      "metadata": {
        "id": "RnQDL78AI6Yu"
      }
    },
    {
      "cell_type": "code",
      "source": [
        "from sklearn.preprocessing import RobustScaler\n",
        "from sklearn.pipeline import Pipeline\n",
        "from sklearn.preprocessing import PolynomialFeatures\n",
        "from sklearn.decomposition import PCA\n",
        "X = crop_data.drop(columns=['Class of Land']).values\n",
        "y = crop_data ['Class of Land'].values\n",
        "crop_data = crop_data[['vh','vv','Class of Land']]\n",
        "\n",
        "X_train, X_test, y_train, y_test = train_test_split(X, y, test_size=0.3,stratify=y,random_state=40)\n",
        "\n",
        "# poly = PolynomialFeatures(degree = 3, interaction_only=True)\n",
        "# X_train = poly.fit_transform(X_train)\n",
        "# X_test = poly.fit_transform(X_test)\n",
        "\n",
        "sc = RobustScaler()\n",
        "X_train = sc.fit_transform(X_train)\n",
        "X_test = sc.transform(X_test)\n"
      ],
      "metadata": {
        "id": "_tF3k7bgI4dO"
      },
      "execution_count": null,
      "outputs": []
    },
    {
      "cell_type": "code",
      "source": [
        "# ## Explore MINMAX Scaler\n",
        "# ## Max Absolute Scaling\n",
        "# ## Robust Scaling\n",
        "# from sklearn.preprocessing import MinMaxScaler\n",
        "# sc = MinMaxScaler()\n",
        "# X_train = sc.fit_transform(X_train)\n",
        "# X_test = sc.transform(X_test)\n",
        "\n"
      ],
      "metadata": {
        "id": "pFqYLa-hJGYr"
      },
      "execution_count": null,
      "outputs": []
    },
    {
      "cell_type": "markdown",
      "source": [
        "## Training"
      ],
      "metadata": {
        "id": "I6XpRdd4JZjX"
      }
    },
    {
      "cell_type": "code",
      "source": [
        "from sklearn.ensemble import AdaBoostClassifier, GradientBoostingClassifier\n",
        "model = GradientBoostingClassifier(n_estimators=150, learning_rate=0.1, max_depth=1, random_state=0)\n",
        "model.fit(X_train,y_train)"
      ],
      "metadata": {
        "id": "PZXq3l2cJbHW",
        "colab": {
          "base_uri": "https://localhost:8080/",
          "height": 74
        },
        "outputId": "2a26d051-b7df-4b74-896f-bd4d706a1dd6"
      },
      "execution_count": null,
      "outputs": [
        {
          "output_type": "execute_result",
          "data": {
            "text/plain": [
              "GradientBoostingClassifier(max_depth=1, n_estimators=150, random_state=0)"
            ],
            "text/html": [
              "<style>#sk-container-id-12 {color: black;background-color: white;}#sk-container-id-12 pre{padding: 0;}#sk-container-id-12 div.sk-toggleable {background-color: white;}#sk-container-id-12 label.sk-toggleable__label {cursor: pointer;display: block;width: 100%;margin-bottom: 0;padding: 0.3em;box-sizing: border-box;text-align: center;}#sk-container-id-12 label.sk-toggleable__label-arrow:before {content: \"▸\";float: left;margin-right: 0.25em;color: #696969;}#sk-container-id-12 label.sk-toggleable__label-arrow:hover:before {color: black;}#sk-container-id-12 div.sk-estimator:hover label.sk-toggleable__label-arrow:before {color: black;}#sk-container-id-12 div.sk-toggleable__content {max-height: 0;max-width: 0;overflow: hidden;text-align: left;background-color: #f0f8ff;}#sk-container-id-12 div.sk-toggleable__content pre {margin: 0.2em;color: black;border-radius: 0.25em;background-color: #f0f8ff;}#sk-container-id-12 input.sk-toggleable__control:checked~div.sk-toggleable__content {max-height: 200px;max-width: 100%;overflow: auto;}#sk-container-id-12 input.sk-toggleable__control:checked~label.sk-toggleable__label-arrow:before {content: \"▾\";}#sk-container-id-12 div.sk-estimator input.sk-toggleable__control:checked~label.sk-toggleable__label {background-color: #d4ebff;}#sk-container-id-12 div.sk-label input.sk-toggleable__control:checked~label.sk-toggleable__label {background-color: #d4ebff;}#sk-container-id-12 input.sk-hidden--visually {border: 0;clip: rect(1px 1px 1px 1px);clip: rect(1px, 1px, 1px, 1px);height: 1px;margin: -1px;overflow: hidden;padding: 0;position: absolute;width: 1px;}#sk-container-id-12 div.sk-estimator {font-family: monospace;background-color: #f0f8ff;border: 1px dotted black;border-radius: 0.25em;box-sizing: border-box;margin-bottom: 0.5em;}#sk-container-id-12 div.sk-estimator:hover {background-color: #d4ebff;}#sk-container-id-12 div.sk-parallel-item::after {content: \"\";width: 100%;border-bottom: 1px solid gray;flex-grow: 1;}#sk-container-id-12 div.sk-label:hover label.sk-toggleable__label {background-color: #d4ebff;}#sk-container-id-12 div.sk-serial::before {content: \"\";position: absolute;border-left: 1px solid gray;box-sizing: border-box;top: 0;bottom: 0;left: 50%;z-index: 0;}#sk-container-id-12 div.sk-serial {display: flex;flex-direction: column;align-items: center;background-color: white;padding-right: 0.2em;padding-left: 0.2em;position: relative;}#sk-container-id-12 div.sk-item {position: relative;z-index: 1;}#sk-container-id-12 div.sk-parallel {display: flex;align-items: stretch;justify-content: center;background-color: white;position: relative;}#sk-container-id-12 div.sk-item::before, #sk-container-id-12 div.sk-parallel-item::before {content: \"\";position: absolute;border-left: 1px solid gray;box-sizing: border-box;top: 0;bottom: 0;left: 50%;z-index: -1;}#sk-container-id-12 div.sk-parallel-item {display: flex;flex-direction: column;z-index: 1;position: relative;background-color: white;}#sk-container-id-12 div.sk-parallel-item:first-child::after {align-self: flex-end;width: 50%;}#sk-container-id-12 div.sk-parallel-item:last-child::after {align-self: flex-start;width: 50%;}#sk-container-id-12 div.sk-parallel-item:only-child::after {width: 0;}#sk-container-id-12 div.sk-dashed-wrapped {border: 1px dashed gray;margin: 0 0.4em 0.5em 0.4em;box-sizing: border-box;padding-bottom: 0.4em;background-color: white;}#sk-container-id-12 div.sk-label label {font-family: monospace;font-weight: bold;display: inline-block;line-height: 1.2em;}#sk-container-id-12 div.sk-label-container {text-align: center;}#sk-container-id-12 div.sk-container {/* jupyter's `normalize.less` sets `[hidden] { display: none; }` but bootstrap.min.css set `[hidden] { display: none !important; }` so we also need the `!important` here to be able to override the default hidden behavior on the sphinx rendered scikit-learn.org. See: https://github.com/scikit-learn/scikit-learn/issues/21755 */display: inline-block !important;position: relative;}#sk-container-id-12 div.sk-text-repr-fallback {display: none;}</style><div id=\"sk-container-id-12\" class=\"sk-top-container\"><div class=\"sk-text-repr-fallback\"><pre>GradientBoostingClassifier(max_depth=1, n_estimators=150, random_state=0)</pre><b>In a Jupyter environment, please rerun this cell to show the HTML representation or trust the notebook. <br />On GitHub, the HTML representation is unable to render, please try loading this page with nbviewer.org.</b></div><div class=\"sk-container\" hidden><div class=\"sk-item\"><div class=\"sk-estimator sk-toggleable\"><input class=\"sk-toggleable__control sk-hidden--visually\" id=\"sk-estimator-id-12\" type=\"checkbox\" checked><label for=\"sk-estimator-id-12\" class=\"sk-toggleable__label sk-toggleable__label-arrow\">GradientBoostingClassifier</label><div class=\"sk-toggleable__content\"><pre>GradientBoostingClassifier(max_depth=1, n_estimators=150, random_state=0)</pre></div></div></div></div></div>"
            ]
          },
          "metadata": {},
          "execution_count": 51
        }
      ]
    },
    {
      "cell_type": "code",
      "source": [
        "insample_predictions = model.predict(X_train)\n",
        "print(\"Insample Accuracy {0:.2f}%\".format(100*accuracy_score(insample_predictions,y_train)))\n",
        "print(classification_report(insample_predictions,y_train))"
      ],
      "metadata": {
        "id": "qM4Flx87JlPD",
        "colab": {
          "base_uri": "https://localhost:8080/"
        },
        "outputId": "fd7aecb7-e9b2-4274-a6c3-3f08ee56ca15"
      },
      "execution_count": null,
      "outputs": [
        {
          "output_type": "stream",
          "name": "stdout",
          "text": [
            "Insample Accuracy 81.67%\n",
            "              precision    recall  f1-score   support\n",
            "\n",
            "    Non Rice       0.84      0.80      0.82       221\n",
            "        Rice       0.79      0.83      0.81       199\n",
            "\n",
            "    accuracy                           0.82       420\n",
            "   macro avg       0.82      0.82      0.82       420\n",
            "weighted avg       0.82      0.82      0.82       420\n",
            "\n"
          ]
        }
      ]
    },
    {
      "cell_type": "code",
      "source": [
        "#  ## Trying out Gaussian Naive Bayes\n",
        "# from sklearn.naive_bayes import GaussianNB\n",
        "# gnb = GaussianNB()\n",
        "# y_pred = gnb.fit(X_train, y_train).predict(X_test)\n",
        "# print(\"Number of mislabeled points out of a total %d points : %d\" % (X_test.shape[0], (y_test != y_pred).sum()))\n",
        "# accuracy = (X_test.shape[0] - (y_test != y_pred).sum())/X_test.shape[0]\n",
        "# print(\"Insample Accuracy {0:.2f}%\".format(100*accuracy))\n",
        "# # print(classification_report(insample_predictions,y_train))"
      ],
      "metadata": {
        "colab": {
          "base_uri": "https://localhost:8080/"
        },
        "id": "YHKyospuowTr",
        "outputId": "2c7926c5-3e7c-4d3c-91f4-8c8bb625f496"
      },
      "execution_count": null,
      "outputs": [
        {
          "output_type": "stream",
          "name": "stdout",
          "text": [
            "Number of mislabeled points out of a total 180 points : 77\n",
            "Insample Accuracy 57.22%\n"
          ]
        }
      ]
    },
    {
      "cell_type": "code",
      "source": [],
      "metadata": {
        "id": "Nja37LbTrEje"
      },
      "execution_count": null,
      "outputs": []
    },
    {
      "cell_type": "code",
      "source": [
        "def plot_confusion_matrix(true_value,predicted_value,title,labels):\n",
        "    '''\n",
        "    Plots a confusion matrix.\n",
        "    Attributes:\n",
        "    true_value - The ground truth value for comparision.\n",
        "    predicted_value - The values predicted by the model.\n",
        "    title - Title of the plot.\n",
        "    labels - The x and y labels of the plot.\n",
        "    '''\n",
        "    cm = confusion_matrix(true_value,predicted_value)\n",
        "    ax= plt.subplot()\n",
        "    sns.heatmap(cm, annot=True, fmt='g', ax=ax, cmap='Blues');\n",
        "    ax.set_xlabel('Predicted labels');\n",
        "    ax.set_ylabel('True labels'); \n",
        "    ax.set_title(title); \n",
        "    ax.xaxis.set_ticklabels(labels); \n",
        "    ax.yaxis.set_ticklabels(labels);"
      ],
      "metadata": {
        "id": "Vywc-OLOKgon"
      },
      "execution_count": null,
      "outputs": []
    },
    {
      "cell_type": "code",
      "source": [
        "plot_confusion_matrix(y_train,insample_predictions,\"Model Level 1: Gradient Boosting Method In-Sample Results\",['Rice', 'Non Rice'])"
      ],
      "metadata": {
        "id": "Msbh8dJzKkmb",
        "colab": {
          "base_uri": "https://localhost:8080/",
          "height": 472
        },
        "outputId": "0d8cb277-9051-403e-d3b9-29f599dead1c"
      },
      "execution_count": null,
      "outputs": [
        {
          "output_type": "display_data",
          "data": {
            "text/plain": [
              "<Figure size 640x480 with 2 Axes>"
            ],
            "image/png": "[encoded data removed]"
          },
          "metadata": {}
        }
      ]
    },
    {
      "cell_type": "markdown",
      "source": [
        "## Outsample Evaluation"
      ],
      "metadata": {
        "id": "i1FowOe8KnuU"
      }
    },
    {
      "cell_type": "code",
      "source": [
        "outsample_predictions = model.predict(X_test)\n",
        "print(\"Accuracy {0:.2f}%\".format(100*accuracy_score(outsample_predictions, y_test)))\n",
        "print(classification_report(y_test, outsample_predictions))"
      ],
      "metadata": {
        "id": "gRk5p5bGKpjg",
        "colab": {
          "base_uri": "https://localhost:8080/"
        },
        "outputId": "2e36eca1-a3cc-450d-c210-a2ac17e3dfdc"
      },
      "execution_count": null,
      "outputs": [
        {
          "output_type": "stream",
          "name": "stdout",
          "text": [
            "Accuracy 88.89%\n",
            "              precision    recall  f1-score   support\n",
            "\n",
            "    Non Rice       0.88      0.90      0.89        90\n",
            "        Rice       0.90      0.88      0.89        90\n",
            "\n",
            "    accuracy                           0.89       180\n",
            "   macro avg       0.89      0.89      0.89       180\n",
            "weighted avg       0.89      0.89      0.89       180\n",
            "\n"
          ]
        }
      ]
    },
    {
      "cell_type": "code",
      "source": [
        "plot_confusion_matrix(y_test, outsample_predictions,\"Model Level 1: Gradient Boosting Method Out-Sample Results\",['Rice', 'Non Rice'])"
      ],
      "metadata": {
        "id": "G-13ZK-EK0Yi",
        "colab": {
          "base_uri": "https://localhost:8080/",
          "height": 472
        },
        "outputId": "da773f72-bf1d-4254-8e9c-b46cbc5ae826"
      },
      "execution_count": null,
      "outputs": [
        {
          "output_type": "display_data",
          "data": {
            "text/plain": [
              "<Figure size 640x480 with 2 Axes>"
            ],
            "image/png": "[encoded data removed]"
          },
          "metadata": {}
        }
      ]
    },
    {
      "cell_type": "code",
      "source": [
        "test_file = pd.read_csv('/content/drive/MyDrive/challenge_1_submission_template.csv')\n",
        "test_file.head()"
      ],
      "metadata": {
        "colab": {
          "base_uri": "https://localhost:8080/",
          "height": 206
        },
        "id": "yMVnv5Y93G1L",
        "outputId": "63bf74ba-3b03-40e4-ca86-39a5c070910a"
      },
      "execution_count": null,
      "outputs": [
        {
          "output_type": "execute_result",
          "data": {
            "text/plain": [
              "                     Latitude and Longitude\n",
              "0   (10.18019073690894, 105.32022315786804)\n",
              "1  (10.561107033461816, 105.12772097986661)\n",
              "2  (10.623790611954897, 105.13771401411867)\n",
              "3  (10.583364246115156, 105.23946127195805)\n",
              "4   (10.20744446668854, 105.26844107128906)"
            ],
            "text/html": [
              "\n",
              "  <div id=\"df-cbde48c0-3f8e-49eb-a6dd-fa3d0d9feb80\">\n",
              "    <div class=\"colab-df-container\">\n",
              "      <div>\n",
              "<style scoped>\n",
              "    .dataframe tbody tr th:only-of-type {\n",
              "        vertical-align: middle;\n",
              "    }\n",
              "\n",
              "    .dataframe tbody tr th {\n",
              "        vertical-align: top;\n",
              "    }\n",
              "\n",
              "    .dataframe thead th {\n",
              "        text-align: right;\n",
              "    }\n",
              "</style>\n",
              "<table border=\"1\" class=\"dataframe\">\n",
              "  <thead>\n",
              "    <tr style=\"text-align: right;\">\n",
              "      <th></th>\n",
              "      <th>Latitude and Longitude</th>\n",
              "    </tr>\n",
              "  </thead>\n",
              "  <tbody>\n",
              "    <tr>\n",
              "      <th>0</th>\n",
              "      <td>(10.18019073690894, 105.32022315786804)</td>\n",
              "    </tr>\n",
              "    <tr>\n",
              "      <th>1</th>\n",
              "      <td>(10.561107033461816, 105.12772097986661)</td>\n",
              "    </tr>\n",
              "    <tr>\n",
              "      <th>2</th>\n",
              "      <td>(10.623790611954897, 105.13771401411867)</td>\n",
              "    </tr>\n",
              "    <tr>\n",
              "      <th>3</th>\n",
              "      <td>(10.583364246115156, 105.23946127195805)</td>\n",
              "    </tr>\n",
              "    <tr>\n",
              "      <th>4</th>\n",
              "      <td>(10.20744446668854, 105.26844107128906)</td>\n",
              "    </tr>\n",
              "  </tbody>\n",
              "</table>\n",
              "</div>\n",
              "      <button class=\"colab-df-convert\" onclick=\"convertToInteractive('df-cbde48c0-3f8e-49eb-a6dd-fa3d0d9feb80')\"\n",
              "              title=\"Convert this dataframe to an interactive table.\"\n",
              "              style=\"display:none;\">\n",
              "        \n",
              "  <svg xmlns=\"http://www.w3.org/2000/svg\" height=\"24px\"viewBox=\"0 0 24 24\"\n",
              "       width=\"24px\">\n",
              "    <path d=\"M0 0h24v24H0V0z\" fill=\"none\"/>\n",
              "    <path d=\"M18.56 5.44l.94 2.06.94-2.06 2.06-.94-2.06-.94-.94-2.06-.94 2.06-2.06.94zm-11 1L8.5 8.5l.94-2.06 2.06-.94-2.06-.94L8.5 2.5l-.94 2.06-2.06.94zm10 10l.94 2.06.94-2.06 2.06-.94-2.06-.94-.94-2.06-.94 2.06-2.06.94z\"/><path d=\"M17.41 7.96l-1.37-1.37c-.4-.4-.92-.59-1.43-.59-.52 0-1.04.2-1.43.59L10.3 9.45l-7.72 7.72c-.78.78-.78 2.05 0 2.83L4 21.41c.39.39.9.59 1.41.59.51 0 1.02-.2 1.41-.59l7.78-7.78 2.81-2.81c.8-.78.8-2.07 0-2.86zM5.41 20L4 18.59l7.72-7.72 1.47 1.35L5.41 20z\"/>\n",
              "  </svg>\n",
              "      </button>\n",
              "      \n",
              "  <style>\n",
              "    .colab-df-container {\n",
              "      display:flex;\n",
              "      flex-wrap:wrap;\n",
              "      gap: 12px;\n",
              "    }\n",
              "\n",
              "    .colab-df-convert {\n",
              "      background-color: #E8F0FE;\n",
              "      border: none;\n",
              "      border-radius: 50%;\n",
              "      cursor: pointer;\n",
              "      display: none;\n",
              "      fill: #1967D2;\n",
              "      height: 32px;\n",
              "      padding: 0 0 0 0;\n",
              "      width: 32px;\n",
              "    }\n",
              "\n",
              "    .colab-df-convert:hover {\n",
              "      background-color: #E2EBFA;\n",
              "      box-shadow: 0px 1px 2px rgba(60, 64, 67, 0.3), 0px 1px 3px 1px rgba(60, 64, 67, 0.15);\n",
              "      fill: #174EA6;\n",
              "    }\n",
              "\n",
              "    [theme=dark] .colab-df-convert {\n",
              "      background-color: #3B4455;\n",
              "      fill: #D2E3FC;\n",
              "    }\n",
              "\n",
              "    [theme=dark] .colab-df-convert:hover {\n",
              "      background-color: #434B5C;\n",
              "      box-shadow: 0px 1px 3px 1px rgba(0, 0, 0, 0.15);\n",
              "      filter: drop-shadow(0px 1px 2px rgba(0, 0, 0, 0.3));\n",
              "      fill: #FFFFFF;\n",
              "    }\n",
              "  </style>\n",
              "\n",
              "      <script>\n",
              "        const buttonEl =\n",
              "          document.querySelector('#df-cbde48c0-3f8e-49eb-a6dd-fa3d0d9feb80 button.colab-df-convert');\n",
              "        buttonEl.style.display =\n",
              "          google.colab.kernel.accessAllowed ? 'block' : 'none';\n",
              "\n",
              "        async function convertToInteractive(key) {\n",
              "          const element = document.querySelector('#df-cbde48c0-3f8e-49eb-a6dd-fa3d0d9feb80');\n",
              "          const dataTable =\n",
              "            await google.colab.kernel.invokeFunction('convertToInteractive',\n",
              "                                                     [key], {});\n",
              "          if (!dataTable) return;\n",
              "\n",
              "          const docLinkHtml = 'Like what you see? Visit the ' +\n",
              "            '<a target=\"_blank\" href=https://colab.research.google.com/notebooks/data_table.ipynb>data table notebook</a>'\n",
              "            + ' to learn more about interactive tables.';\n",
              "          element.innerHTML = '';\n",
              "          dataTable['output_type'] = 'display_data';\n",
              "          await google.colab.output.renderOutput(dataTable, element);\n",
              "          const docLink = document.createElement('div');\n",
              "          docLink.innerHTML = docLinkHtml;\n",
              "          element.appendChild(docLink);\n",
              "        }\n",
              "      </script>\n",
              "    </div>\n",
              "  </div>\n",
              "  "
            ]
          },
          "metadata": {},
          "execution_count": 16
        }
      ]
    },
    {
      "cell_type": "code",
      "source": [
        "time_slice = \"2020-03-20/2021-03-21\"\n",
        "assests = ['vh','vv']\n",
        "vh_vv = []\n",
        "for coordinates in tqdm(test_file['Latitude and Longitude']):\n",
        "    vh_vv.append(get_sentinel_data(coordinates,time_slice,assests))\n",
        "submission_vh_vv_data = pd.DataFrame(vh_vv,columns =['vh','vv'])"
      ],
      "metadata": {
        "colab": {
          "base_uri": "https://localhost:8080/"
        },
        "id": "DsEHR6y53XWF",
        "outputId": "4cb25c1c-fa07-40a0-a090-ad67fdb547eb"
      },
      "execution_count": null,
      "outputs": [
        {
          "output_type": "stream",
          "name": "stderr",
          "text": [
            "100%|██████████| 250/250 [04:42<00:00,  1.13s/it]\n"
          ]
        }
      ]
    },
    {
      "cell_type": "code",
      "source": [
        "submission_vh_vv_data.head()"
      ],
      "metadata": {
        "colab": {
          "base_uri": "https://localhost:8080/",
          "height": 206
        },
        "id": "HRkj1yXK4wxY",
        "outputId": "9bc5844a-04eb-4eb2-b21d-06aa69d8fb0c"
      },
      "execution_count": null,
      "outputs": [
        {
          "output_type": "execute_result",
          "data": {
            "text/plain": [
              "         vh        vv\n",
              "0  0.064835  0.128162\n",
              "1  0.066768  0.122141\n",
              "2  0.057788  0.146520\n",
              "3  0.014912  0.082169\n",
              "4  0.035578  0.103929"
            ],
            "text/html": [
              "\n",
              "  <div id=\"df-9be3d733-c401-480e-a553-5940dcb6b54b\">\n",
              "    <div class=\"colab-df-container\">\n",
              "      <div>\n",
              "<style scoped>\n",
              "    .dataframe tbody tr th:only-of-type {\n",
              "        vertical-align: middle;\n",
              "    }\n",
              "\n",
              "    .dataframe tbody tr th {\n",
              "        vertical-align: top;\n",
              "    }\n",
              "\n",
              "    .dataframe thead th {\n",
              "        text-align: right;\n",
              "    }\n",
              "</style>\n",
              "<table border=\"1\" class=\"dataframe\">\n",
              "  <thead>\n",
              "    <tr style=\"text-align: right;\">\n",
              "      <th></th>\n",
              "      <th>vh</th>\n",
              "      <th>vv</th>\n",
              "    </tr>\n",
              "  </thead>\n",
              "  <tbody>\n",
              "    <tr>\n",
              "      <th>0</th>\n",
              "      <td>0.064835</td>\n",
              "      <td>0.128162</td>\n",
              "    </tr>\n",
              "    <tr>\n",
              "      <th>1</th>\n",
              "      <td>0.066768</td>\n",
              "      <td>0.122141</td>\n",
              "    </tr>\n",
              "    <tr>\n",
              "      <th>2</th>\n",
              "      <td>0.057788</td>\n",
              "      <td>0.146520</td>\n",
              "    </tr>\n",
              "    <tr>\n",
              "      <th>3</th>\n",
              "      <td>0.014912</td>\n",
              "      <td>0.082169</td>\n",
              "    </tr>\n",
              "    <tr>\n",
              "      <th>4</th>\n",
              "      <td>0.035578</td>\n",
              "      <td>0.103929</td>\n",
              "    </tr>\n",
              "  </tbody>\n",
              "</table>\n",
              "</div>\n",
              "      <button class=\"colab-df-convert\" onclick=\"convertToInteractive('df-9be3d733-c401-480e-a553-5940dcb6b54b')\"\n",
              "              title=\"Convert this dataframe to an interactive table.\"\n",
              "              style=\"display:none;\">\n",
              "        \n",
              "  <svg xmlns=\"http://www.w3.org/2000/svg\" height=\"24px\"viewBox=\"0 0 24 24\"\n",
              "       width=\"24px\">\n",
              "    <path d=\"M0 0h24v24H0V0z\" fill=\"none\"/>\n",
              "    <path d=\"M18.56 5.44l.94 2.06.94-2.06 2.06-.94-2.06-.94-.94-2.06-.94 2.06-2.06.94zm-11 1L8.5 8.5l.94-2.06 2.06-.94-2.06-.94L8.5 2.5l-.94 2.06-2.06.94zm10 10l.94 2.06.94-2.06 2.06-.94-2.06-.94-.94-2.06-.94 2.06-2.06.94z\"/><path d=\"M17.41 7.96l-1.37-1.37c-.4-.4-.92-.59-1.43-.59-.52 0-1.04.2-1.43.59L10.3 9.45l-7.72 7.72c-.78.78-.78 2.05 0 2.83L4 21.41c.39.39.9.59 1.41.59.51 0 1.02-.2 1.41-.59l7.78-7.78 2.81-2.81c.8-.78.8-2.07 0-2.86zM5.41 20L4 18.59l7.72-7.72 1.47 1.35L5.41 20z\"/>\n",
              "  </svg>\n",
              "      </button>\n",
              "      \n",
              "  <style>\n",
              "    .colab-df-container {\n",
              "      display:flex;\n",
              "      flex-wrap:wrap;\n",
              "      gap: 12px;\n",
              "    }\n",
              "\n",
              "    .colab-df-convert {\n",
              "      background-color: #E8F0FE;\n",
              "      border: none;\n",
              "      border-radius: 50%;\n",
              "      cursor: pointer;\n",
              "      display: none;\n",
              "      fill: #1967D2;\n",
              "      height: 32px;\n",
              "      padding: 0 0 0 0;\n",
              "      width: 32px;\n",
              "    }\n",
              "\n",
              "    .colab-df-convert:hover {\n",
              "      background-color: #E2EBFA;\n",
              "      box-shadow: 0px 1px 2px rgba(60, 64, 67, 0.3), 0px 1px 3px 1px rgba(60, 64, 67, 0.15);\n",
              "      fill: #174EA6;\n",
              "    }\n",
              "\n",
              "    [theme=dark] .colab-df-convert {\n",
              "      background-color: #3B4455;\n",
              "      fill: #D2E3FC;\n",
              "    }\n",
              "\n",
              "    [theme=dark] .colab-df-convert:hover {\n",
              "      background-color: #434B5C;\n",
              "      box-shadow: 0px 1px 3px 1px rgba(0, 0, 0, 0.15);\n",
              "      filter: drop-shadow(0px 1px 2px rgba(0, 0, 0, 0.3));\n",
              "      fill: #FFFFFF;\n",
              "    }\n",
              "  </style>\n",
              "\n",
              "      <script>\n",
              "        const buttonEl =\n",
              "          document.querySelector('#df-9be3d733-c401-480e-a553-5940dcb6b54b button.colab-df-convert');\n",
              "        buttonEl.style.display =\n",
              "          google.colab.kernel.accessAllowed ? 'block' : 'none';\n",
              "\n",
              "        async function convertToInteractive(key) {\n",
              "          const element = document.querySelector('#df-9be3d733-c401-480e-a553-5940dcb6b54b');\n",
              "          const dataTable =\n",
              "            await google.colab.kernel.invokeFunction('convertToInteractive',\n",
              "                                                     [key], {});\n",
              "          if (!dataTable) return;\n",
              "\n",
              "          const docLinkHtml = 'Like what you see? Visit the ' +\n",
              "            '<a target=\"_blank\" href=https://colab.research.google.com/notebooks/data_table.ipynb>data table notebook</a>'\n",
              "            + ' to learn more about interactive tables.';\n",
              "          element.innerHTML = '';\n",
              "          dataTable['output_type'] = 'display_data';\n",
              "          await google.colab.output.renderOutput(dataTable, element);\n",
              "          const docLink = document.createElement('div');\n",
              "          docLink.innerHTML = docLinkHtml;\n",
              "          element.appendChild(docLink);\n",
              "        }\n",
              "      </script>\n",
              "    </div>\n",
              "  </div>\n",
              "  "
            ]
          },
          "metadata": {},
          "execution_count": 63
        }
      ]
    },
    {
      "cell_type": "code",
      "source": [
        "submission_new = combine_two_datasets(test_file,submission_vh_vv_data)\n",
        "submission_new.head()"
      ],
      "metadata": {
        "colab": {
          "base_uri": "https://localhost:8080/",
          "height": 206
        },
        "id": "ZBdqIxUV5COW",
        "outputId": "44d4dfe8-8d58-4893-a20e-1959c9802af9"
      },
      "execution_count": null,
      "outputs": [
        {
          "output_type": "execute_result",
          "data": {
            "text/plain": [
              "                     Latitude and Longitude        vh        vv\n",
              "0   (10.18019073690894, 105.32022315786804)  0.064835  0.128162\n",
              "1  (10.561107033461816, 105.12772097986661)  0.066768  0.122141\n",
              "2  (10.623790611954897, 105.13771401411867)  0.057788  0.146520\n",
              "3  (10.583364246115156, 105.23946127195805)  0.014912  0.082169\n",
              "4   (10.20744446668854, 105.26844107128906)  0.035578  0.103929"
            ],
            "text/html": [
              "\n",
              "  <div id=\"df-7b405b5e-96fe-4db4-b917-ef47c7d34866\">\n",
              "    <div class=\"colab-df-container\">\n",
              "      <div>\n",
              "<style scoped>\n",
              "    .dataframe tbody tr th:only-of-type {\n",
              "        vertical-align: middle;\n",
              "    }\n",
              "\n",
              "    .dataframe tbody tr th {\n",
              "        vertical-align: top;\n",
              "    }\n",
              "\n",
              "    .dataframe thead th {\n",
              "        text-align: right;\n",
              "    }\n",
              "</style>\n",
              "<table border=\"1\" class=\"dataframe\">\n",
              "  <thead>\n",
              "    <tr style=\"text-align: right;\">\n",
              "      <th></th>\n",
              "      <th>Latitude and Longitude</th>\n",
              "      <th>vh</th>\n",
              "      <th>vv</th>\n",
              "    </tr>\n",
              "  </thead>\n",
              "  <tbody>\n",
              "    <tr>\n",
              "      <th>0</th>\n",
              "      <td>(10.18019073690894, 105.32022315786804)</td>\n",
              "      <td>0.064835</td>\n",
              "      <td>0.128162</td>\n",
              "    </tr>\n",
              "    <tr>\n",
              "      <th>1</th>\n",
              "      <td>(10.561107033461816, 105.12772097986661)</td>\n",
              "      <td>0.066768</td>\n",
              "      <td>0.122141</td>\n",
              "    </tr>\n",
              "    <tr>\n",
              "      <th>2</th>\n",
              "      <td>(10.623790611954897, 105.13771401411867)</td>\n",
              "      <td>0.057788</td>\n",
              "      <td>0.146520</td>\n",
              "    </tr>\n",
              "    <tr>\n",
              "      <th>3</th>\n",
              "      <td>(10.583364246115156, 105.23946127195805)</td>\n",
              "      <td>0.014912</td>\n",
              "      <td>0.082169</td>\n",
              "    </tr>\n",
              "    <tr>\n",
              "      <th>4</th>\n",
              "      <td>(10.20744446668854, 105.26844107128906)</td>\n",
              "      <td>0.035578</td>\n",
              "      <td>0.103929</td>\n",
              "    </tr>\n",
              "  </tbody>\n",
              "</table>\n",
              "</div>\n",
              "      <button class=\"colab-df-convert\" onclick=\"convertToInteractive('df-7b405b5e-96fe-4db4-b917-ef47c7d34866')\"\n",
              "              title=\"Convert this dataframe to an interactive table.\"\n",
              "              style=\"display:none;\">\n",
              "        \n",
              "  <svg xmlns=\"http://www.w3.org/2000/svg\" height=\"24px\"viewBox=\"0 0 24 24\"\n",
              "       width=\"24px\">\n",
              "    <path d=\"M0 0h24v24H0V0z\" fill=\"none\"/>\n",
              "    <path d=\"M18.56 5.44l.94 2.06.94-2.06 2.06-.94-2.06-.94-.94-2.06-.94 2.06-2.06.94zm-11 1L8.5 8.5l.94-2.06 2.06-.94-2.06-.94L8.5 2.5l-.94 2.06-2.06.94zm10 10l.94 2.06.94-2.06 2.06-.94-2.06-.94-.94-2.06-.94 2.06-2.06.94z\"/><path d=\"M17.41 7.96l-1.37-1.37c-.4-.4-.92-.59-1.43-.59-.52 0-1.04.2-1.43.59L10.3 9.45l-7.72 7.72c-.78.78-.78 2.05 0 2.83L4 21.41c.39.39.9.59 1.41.59.51 0 1.02-.2 1.41-.59l7.78-7.78 2.81-2.81c.8-.78.8-2.07 0-2.86zM5.41 20L4 18.59l7.72-7.72 1.47 1.35L5.41 20z\"/>\n",
              "  </svg>\n",
              "      </button>\n",
              "      \n",
              "  <style>\n",
              "    .colab-df-container {\n",
              "      display:flex;\n",
              "      flex-wrap:wrap;\n",
              "      gap: 12px;\n",
              "    }\n",
              "\n",
              "    .colab-df-convert {\n",
              "      background-color: #E8F0FE;\n",
              "      border: none;\n",
              "      border-radius: 50%;\n",
              "      cursor: pointer;\n",
              "      display: none;\n",
              "      fill: #1967D2;\n",
              "      height: 32px;\n",
              "      padding: 0 0 0 0;\n",
              "      width: 32px;\n",
              "    }\n",
              "\n",
              "    .colab-df-convert:hover {\n",
              "      background-color: #E2EBFA;\n",
              "      box-shadow: 0px 1px 2px rgba(60, 64, 67, 0.3), 0px 1px 3px 1px rgba(60, 64, 67, 0.15);\n",
              "      fill: #174EA6;\n",
              "    }\n",
              "\n",
              "    [theme=dark] .colab-df-convert {\n",
              "      background-color: #3B4455;\n",
              "      fill: #D2E3FC;\n",
              "    }\n",
              "\n",
              "    [theme=dark] .colab-df-convert:hover {\n",
              "      background-color: #434B5C;\n",
              "      box-shadow: 0px 1px 3px 1px rgba(0, 0, 0, 0.15);\n",
              "      filter: drop-shadow(0px 1px 2px rgba(0, 0, 0, 0.3));\n",
              "      fill: #FFFFFF;\n",
              "    }\n",
              "  </style>\n",
              "\n",
              "      <script>\n",
              "        const buttonEl =\n",
              "          document.querySelector('#df-7b405b5e-96fe-4db4-b917-ef47c7d34866 button.colab-df-convert');\n",
              "        buttonEl.style.display =\n",
              "          google.colab.kernel.accessAllowed ? 'block' : 'none';\n",
              "\n",
              "        async function convertToInteractive(key) {\n",
              "          const element = document.querySelector('#df-7b405b5e-96fe-4db4-b917-ef47c7d34866');\n",
              "          const dataTable =\n",
              "            await google.colab.kernel.invokeFunction('convertToInteractive',\n",
              "                                                     [key], {});\n",
              "          if (!dataTable) return;\n",
              "\n",
              "          const docLinkHtml = 'Like what you see? Visit the ' +\n",
              "            '<a target=\"_blank\" href=https://colab.research.google.com/notebooks/data_table.ipynb>data table notebook</a>'\n",
              "            + ' to learn more about interactive tables.';\n",
              "          element.innerHTML = '';\n",
              "          dataTable['output_type'] = 'display_data';\n",
              "          await google.colab.output.renderOutput(dataTable, element);\n",
              "          const docLink = document.createElement('div');\n",
              "          docLink.innerHTML = docLinkHtml;\n",
              "          element.appendChild(docLink);\n",
              "        }\n",
              "      </script>\n",
              "    </div>\n",
              "  </div>\n",
              "  "
            ]
          },
          "metadata": {},
          "execution_count": 64
        }
      ]
    },
    {
      "cell_type": "code",
      "source": [],
      "metadata": {
        "id": "CNoZLfx95ils"
      },
      "execution_count": null,
      "outputs": []
    },
    {
      "cell_type": "code",
      "source": [
        "# Feature Scaling\n",
        "sc = RobustScaler()\n",
        "# Feature Scaling \n",
        "# submission_vh_vv_data = submission_vh_vv_data.values\n",
        "transformed_submission_data = sc.fit_transform(submission_vh_vv_data)"
      ],
      "metadata": {
        "id": "xgeFCeYK37ZX"
      },
      "execution_count": null,
      "outputs": []
    },
    {
      "cell_type": "code",
      "source": [
        "#Making predictions\n",
        "final_predictions = model.predict(transformed_submission_data)\n",
        "final_prediction_series = pd.Series(final_predictions)"
      ],
      "metadata": {
        "id": "7GpXpmPj4Fki"
      },
      "execution_count": null,
      "outputs": []
    },
    {
      "cell_type": "code",
      "source": [
        "#Combining the results into dataframe\n",
        "submission_df = pd.DataFrame({'Latitude and Longitude':test_file['Latitude and Longitude'].values, 'Class of Land':final_prediction_series.values})"
      ],
      "metadata": {
        "id": "LsWdgQrT6uL0"
      },
      "execution_count": null,
      "outputs": []
    },
    {
      "cell_type": "code",
      "source": [
        "submission_df.head()"
      ],
      "metadata": {
        "colab": {
          "base_uri": "https://localhost:8080/",
          "height": 206
        },
        "id": "r0EhJgo76vtW",
        "outputId": "ebafb074-b5f5-4bdd-da83-ca307a739e37"
      },
      "execution_count": null,
      "outputs": [
        {
          "output_type": "execute_result",
          "data": {
            "text/plain": [
              "                     Latitude and Longitude Class of Land\n",
              "0   (10.18019073690894, 105.32022315786804)      Non Rice\n",
              "1  (10.561107033461816, 105.12772097986661)      Non Rice\n",
              "2  (10.623790611954897, 105.13771401411867)      Non Rice\n",
              "3  (10.583364246115156, 105.23946127195805)          Rice\n",
              "4   (10.20744446668854, 105.26844107128906)      Non Rice"
            ],
            "text/html": [
              "\n",
              "  <div id=\"df-3bdb80c0-c32d-47a9-af2b-741d2dde7bde\">\n",
              "    <div class=\"colab-df-container\">\n",
              "      <div>\n",
              "<style scoped>\n",
              "    .dataframe tbody tr th:only-of-type {\n",
              "        vertical-align: middle;\n",
              "    }\n",
              "\n",
              "    .dataframe tbody tr th {\n",
              "        vertical-align: top;\n",
              "    }\n",
              "\n",
              "    .dataframe thead th {\n",
              "        text-align: right;\n",
              "    }\n",
              "</style>\n",
              "<table border=\"1\" class=\"dataframe\">\n",
              "  <thead>\n",
              "    <tr style=\"text-align: right;\">\n",
              "      <th></th>\n",
              "      <th>Latitude and Longitude</th>\n",
              "      <th>Class of Land</th>\n",
              "    </tr>\n",
              "  </thead>\n",
              "  <tbody>\n",
              "    <tr>\n",
              "      <th>0</th>\n",
              "      <td>(10.18019073690894, 105.32022315786804)</td>\n",
              "      <td>Non Rice</td>\n",
              "    </tr>\n",
              "    <tr>\n",
              "      <th>1</th>\n",
              "      <td>(10.561107033461816, 105.12772097986661)</td>\n",
              "      <td>Non Rice</td>\n",
              "    </tr>\n",
              "    <tr>\n",
              "      <th>2</th>\n",
              "      <td>(10.623790611954897, 105.13771401411867)</td>\n",
              "      <td>Non Rice</td>\n",
              "    </tr>\n",
              "    <tr>\n",
              "      <th>3</th>\n",
              "      <td>(10.583364246115156, 105.23946127195805)</td>\n",
              "      <td>Rice</td>\n",
              "    </tr>\n",
              "    <tr>\n",
              "      <th>4</th>\n",
              "      <td>(10.20744446668854, 105.26844107128906)</td>\n",
              "      <td>Non Rice</td>\n",
              "    </tr>\n",
              "  </tbody>\n",
              "</table>\n",
              "</div>\n",
              "      <button class=\"colab-df-convert\" onclick=\"convertToInteractive('df-3bdb80c0-c32d-47a9-af2b-741d2dde7bde')\"\n",
              "              title=\"Convert this dataframe to an interactive table.\"\n",
              "              style=\"display:none;\">\n",
              "        \n",
              "  <svg xmlns=\"http://www.w3.org/2000/svg\" height=\"24px\"viewBox=\"0 0 24 24\"\n",
              "       width=\"24px\">\n",
              "    <path d=\"M0 0h24v24H0V0z\" fill=\"none\"/>\n",
              "    <path d=\"M18.56 5.44l.94 2.06.94-2.06 2.06-.94-2.06-.94-.94-2.06-.94 2.06-2.06.94zm-11 1L8.5 8.5l.94-2.06 2.06-.94-2.06-.94L8.5 2.5l-.94 2.06-2.06.94zm10 10l.94 2.06.94-2.06 2.06-.94-2.06-.94-.94-2.06-.94 2.06-2.06.94z\"/><path d=\"M17.41 7.96l-1.37-1.37c-.4-.4-.92-.59-1.43-.59-.52 0-1.04.2-1.43.59L10.3 9.45l-7.72 7.72c-.78.78-.78 2.05 0 2.83L4 21.41c.39.39.9.59 1.41.59.51 0 1.02-.2 1.41-.59l7.78-7.78 2.81-2.81c.8-.78.8-2.07 0-2.86zM5.41 20L4 18.59l7.72-7.72 1.47 1.35L5.41 20z\"/>\n",
              "  </svg>\n",
              "      </button>\n",
              "      \n",
              "  <style>\n",
              "    .colab-df-container {\n",
              "      display:flex;\n",
              "      flex-wrap:wrap;\n",
              "      gap: 12px;\n",
              "    }\n",
              "\n",
              "    .colab-df-convert {\n",
              "      background-color: #E8F0FE;\n",
              "      border: none;\n",
              "      border-radius: 50%;\n",
              "      cursor: pointer;\n",
              "      display: none;\n",
              "      fill: #1967D2;\n",
              "      height: 32px;\n",
              "      padding: 0 0 0 0;\n",
              "      width: 32px;\n",
              "    }\n",
              "\n",
              "    .colab-df-convert:hover {\n",
              "      background-color: #E2EBFA;\n",
              "      box-shadow: 0px 1px 2px rgba(60, 64, 67, 0.3), 0px 1px 3px 1px rgba(60, 64, 67, 0.15);\n",
              "      fill: #174EA6;\n",
              "    }\n",
              "\n",
              "    [theme=dark] .colab-df-convert {\n",
              "      background-color: #3B4455;\n",
              "      fill: #D2E3FC;\n",
              "    }\n",
              "\n",
              "    [theme=dark] .colab-df-convert:hover {\n",
              "      background-color: #434B5C;\n",
              "      box-shadow: 0px 1px 3px 1px rgba(0, 0, 0, 0.15);\n",
              "      filter: drop-shadow(0px 1px 2px rgba(0, 0, 0, 0.3));\n",
              "      fill: #FFFFFF;\n",
              "    }\n",
              "  </style>\n",
              "\n",
              "      <script>\n",
              "        const buttonEl =\n",
              "          document.querySelector('#df-3bdb80c0-c32d-47a9-af2b-741d2dde7bde button.colab-df-convert');\n",
              "        buttonEl.style.display =\n",
              "          google.colab.kernel.accessAllowed ? 'block' : 'none';\n",
              "\n",
              "        async function convertToInteractive(key) {\n",
              "          const element = document.querySelector('#df-3bdb80c0-c32d-47a9-af2b-741d2dde7bde');\n",
              "          const dataTable =\n",
              "            await google.colab.kernel.invokeFunction('convertToInteractive',\n",
              "                                                     [key], {});\n",
              "          if (!dataTable) return;\n",
              "\n",
              "          const docLinkHtml = 'Like what you see? Visit the ' +\n",
              "            '<a target=\"_blank\" href=https://colab.research.google.com/notebooks/data_table.ipynb>data table notebook</a>'\n",
              "            + ' to learn more about interactive tables.';\n",
              "          element.innerHTML = '';\n",
              "          dataTable['output_type'] = 'display_data';\n",
              "          await google.colab.output.renderOutput(dataTable, element);\n",
              "          const docLink = document.createElement('div');\n",
              "          docLink.innerHTML = docLinkHtml;\n",
              "          element.appendChild(docLink);\n",
              "        }\n",
              "      </script>\n",
              "    </div>\n",
              "  </div>\n",
              "  "
            ]
          },
          "metadata": {},
          "execution_count": 72
        }
      ]
    }
  ]
}